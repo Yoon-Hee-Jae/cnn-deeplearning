{
  "cells": [
    {
      "cell_type": "markdown",
      "source": [
        "# 감정분석 데이터셋 불러오기 및 전처리"
      ],
      "metadata": {
        "id": "44YrhjG_08hc"
      },
      "id": "44YrhjG_08hc"
    },
    {
      "cell_type": "code",
      "execution_count": null,
      "metadata": {
        "id": "85d87cfc"
      },
      "outputs": [],
      "source": [
        "#변수설정 # gpu사용 변수\n",
        "device = torch.device('cuda:3') if torch.cuda.is_available() else torch.device('cpu')"
      ],
      "id": "85d87cfc"
    },
    {
      "cell_type": "code",
      "execution_count": null,
      "metadata": {
        "id": "94da35f0"
      },
      "outputs": [],
      "source": [
        "import warnings\n",
        "warnings.filterwarnings('ignore')\n",
        "\n",
        "# 데이터 확인\n",
        "import torch\n",
        "import torch.nn as nn\n",
        "import torch.nn.functional as F\n",
        "import numpy as np\n",
        "import pandas as pd\n",
        "import matplotlib.pyplot as plt\n",
        "\n",
        "# Dataset 만들기\n",
        "import keras\n",
        "from keras.utils import to_categorical\n",
        "\n",
        "# Detect Face\n",
        "import cv2\n",
        "from scipy.ndimage import zoom\n",
        "\n",
        "# Model\n",
        "from keras.models import Sequential\n",
        "from keras.layers import Conv2D, MaxPooling2D\n",
        "from keras.layers import Dense, Dropout, Activation, Flatten\n",
        "from keras.layers import BatchNormalization\n",
        "from keras.models import Model\n",
        "from keras.preprocessing.image import ImageDataGenerator"
      ],
      "id": "94da35f0"
    },
    {
      "cell_type": "code",
      "execution_count": 19,
      "id": "2237b94f",
      "metadata": {
        "id": "2237b94f"
      },
      "outputs": [],
      "source": [
        "df = pd.read_csv(\"/content/drive/MyDrive/fer2013.csv\")"
      ]
    },
    {
      "cell_type": "code",
      "execution_count": 20,
      "id": "afb8975a",
      "metadata": {
        "colab": {
          "base_uri": "https://localhost:8080/",
          "height": 206
        },
        "id": "afb8975a",
        "outputId": "e9aa9a82-478b-43ba-f046-36996e0d0387"
      },
      "outputs": [
        {
          "output_type": "execute_result",
          "data": {
            "text/plain": [
              "   emotion                                             pixels     Usage\n",
              "0        0  [70.0, 80.0, 82.0, 72.0, 58.0, 58.0, 60.0, 63....  Training\n",
              "1        0  [151.0, 150.0, 147.0, 155.0, 148.0, 133.0, 111...  Training\n",
              "2        2  [231.0, 212.0, 156.0, 164.0, 174.0, 138.0, 161...  Training\n",
              "3        4  [24.0, 32.0, 36.0, 30.0, 32.0, 23.0, 19.0, 20....  Training\n",
              "4        6  [4.0, 0.0, 0.0, 0.0, 0.0, 0.0, 0.0, 0.0, 0.0, ...  Training"
            ],
            "text/html": [
              "\n",
              "  <div id=\"df-92c27235-a024-45be-82a4-afb594950a32\" class=\"colab-df-container\">\n",
              "    <div>\n",
              "<style scoped>\n",
              "    .dataframe tbody tr th:only-of-type {\n",
              "        vertical-align: middle;\n",
              "    }\n",
              "\n",
              "    .dataframe tbody tr th {\n",
              "        vertical-align: top;\n",
              "    }\n",
              "\n",
              "    .dataframe thead th {\n",
              "        text-align: right;\n",
              "    }\n",
              "</style>\n",
              "<table border=\"1\" class=\"dataframe\">\n",
              "  <thead>\n",
              "    <tr style=\"text-align: right;\">\n",
              "      <th></th>\n",
              "      <th>emotion</th>\n",
              "      <th>pixels</th>\n",
              "      <th>Usage</th>\n",
              "    </tr>\n",
              "  </thead>\n",
              "  <tbody>\n",
              "    <tr>\n",
              "      <th>0</th>\n",
              "      <td>0</td>\n",
              "      <td>[70.0, 80.0, 82.0, 72.0, 58.0, 58.0, 60.0, 63....</td>\n",
              "      <td>Training</td>\n",
              "    </tr>\n",
              "    <tr>\n",
              "      <th>1</th>\n",
              "      <td>0</td>\n",
              "      <td>[151.0, 150.0, 147.0, 155.0, 148.0, 133.0, 111...</td>\n",
              "      <td>Training</td>\n",
              "    </tr>\n",
              "    <tr>\n",
              "      <th>2</th>\n",
              "      <td>2</td>\n",
              "      <td>[231.0, 212.0, 156.0, 164.0, 174.0, 138.0, 161...</td>\n",
              "      <td>Training</td>\n",
              "    </tr>\n",
              "    <tr>\n",
              "      <th>3</th>\n",
              "      <td>4</td>\n",
              "      <td>[24.0, 32.0, 36.0, 30.0, 32.0, 23.0, 19.0, 20....</td>\n",
              "      <td>Training</td>\n",
              "    </tr>\n",
              "    <tr>\n",
              "      <th>4</th>\n",
              "      <td>6</td>\n",
              "      <td>[4.0, 0.0, 0.0, 0.0, 0.0, 0.0, 0.0, 0.0, 0.0, ...</td>\n",
              "      <td>Training</td>\n",
              "    </tr>\n",
              "  </tbody>\n",
              "</table>\n",
              "</div>\n",
              "    <div class=\"colab-df-buttons\">\n",
              "\n",
              "  <div class=\"colab-df-container\">\n",
              "    <button class=\"colab-df-convert\" onclick=\"convertToInteractive('df-92c27235-a024-45be-82a4-afb594950a32')\"\n",
              "            title=\"Convert this dataframe to an interactive table.\"\n",
              "            style=\"display:none;\">\n",
              "\n",
              "  <svg xmlns=\"http://www.w3.org/2000/svg\" height=\"24px\" viewBox=\"0 -960 960 960\">\n",
              "    <path d=\"M120-120v-720h720v720H120Zm60-500h600v-160H180v160Zm220 220h160v-160H400v160Zm0 220h160v-160H400v160ZM180-400h160v-160H180v160Zm440 0h160v-160H620v160ZM180-180h160v-160H180v160Zm440 0h160v-160H620v160Z\"/>\n",
              "  </svg>\n",
              "    </button>\n",
              "\n",
              "  <style>\n",
              "    .colab-df-container {\n",
              "      display:flex;\n",
              "      gap: 12px;\n",
              "    }\n",
              "\n",
              "    .colab-df-convert {\n",
              "      background-color: #E8F0FE;\n",
              "      border: none;\n",
              "      border-radius: 50%;\n",
              "      cursor: pointer;\n",
              "      display: none;\n",
              "      fill: #1967D2;\n",
              "      height: 32px;\n",
              "      padding: 0 0 0 0;\n",
              "      width: 32px;\n",
              "    }\n",
              "\n",
              "    .colab-df-convert:hover {\n",
              "      background-color: #E2EBFA;\n",
              "      box-shadow: 0px 1px 2px rgba(60, 64, 67, 0.3), 0px 1px 3px 1px rgba(60, 64, 67, 0.15);\n",
              "      fill: #174EA6;\n",
              "    }\n",
              "\n",
              "    .colab-df-buttons div {\n",
              "      margin-bottom: 4px;\n",
              "    }\n",
              "\n",
              "    [theme=dark] .colab-df-convert {\n",
              "      background-color: #3B4455;\n",
              "      fill: #D2E3FC;\n",
              "    }\n",
              "\n",
              "    [theme=dark] .colab-df-convert:hover {\n",
              "      background-color: #434B5C;\n",
              "      box-shadow: 0px 1px 3px 1px rgba(0, 0, 0, 0.15);\n",
              "      filter: drop-shadow(0px 1px 2px rgba(0, 0, 0, 0.3));\n",
              "      fill: #FFFFFF;\n",
              "    }\n",
              "  </style>\n",
              "\n",
              "    <script>\n",
              "      const buttonEl =\n",
              "        document.querySelector('#df-92c27235-a024-45be-82a4-afb594950a32 button.colab-df-convert');\n",
              "      buttonEl.style.display =\n",
              "        google.colab.kernel.accessAllowed ? 'block' : 'none';\n",
              "\n",
              "      async function convertToInteractive(key) {\n",
              "        const element = document.querySelector('#df-92c27235-a024-45be-82a4-afb594950a32');\n",
              "        const dataTable =\n",
              "          await google.colab.kernel.invokeFunction('convertToInteractive',\n",
              "                                                    [key], {});\n",
              "        if (!dataTable) return;\n",
              "\n",
              "        const docLinkHtml = 'Like what you see? Visit the ' +\n",
              "          '<a target=\"_blank\" href=https://colab.research.google.com/notebooks/data_table.ipynb>data table notebook</a>'\n",
              "          + ' to learn more about interactive tables.';\n",
              "        element.innerHTML = '';\n",
              "        dataTable['output_type'] = 'display_data';\n",
              "        await google.colab.output.renderOutput(dataTable, element);\n",
              "        const docLink = document.createElement('div');\n",
              "        docLink.innerHTML = docLinkHtml;\n",
              "        element.appendChild(docLink);\n",
              "      }\n",
              "    </script>\n",
              "  </div>\n",
              "\n",
              "\n",
              "<div id=\"df-fac545ca-e0a6-4bd2-9761-7a6c18473564\">\n",
              "  <button class=\"colab-df-quickchart\" onclick=\"quickchart('df-fac545ca-e0a6-4bd2-9761-7a6c18473564')\"\n",
              "            title=\"Suggest charts\"\n",
              "            style=\"display:none;\">\n",
              "\n",
              "<svg xmlns=\"http://www.w3.org/2000/svg\" height=\"24px\"viewBox=\"0 0 24 24\"\n",
              "     width=\"24px\">\n",
              "    <g>\n",
              "        <path d=\"M19 3H5c-1.1 0-2 .9-2 2v14c0 1.1.9 2 2 2h14c1.1 0 2-.9 2-2V5c0-1.1-.9-2-2-2zM9 17H7v-7h2v7zm4 0h-2V7h2v10zm4 0h-2v-4h2v4z\"/>\n",
              "    </g>\n",
              "</svg>\n",
              "  </button>\n",
              "\n",
              "<style>\n",
              "  .colab-df-quickchart {\n",
              "      --bg-color: #E8F0FE;\n",
              "      --fill-color: #1967D2;\n",
              "      --hover-bg-color: #E2EBFA;\n",
              "      --hover-fill-color: #174EA6;\n",
              "      --disabled-fill-color: #AAA;\n",
              "      --disabled-bg-color: #DDD;\n",
              "  }\n",
              "\n",
              "  [theme=dark] .colab-df-quickchart {\n",
              "      --bg-color: #3B4455;\n",
              "      --fill-color: #D2E3FC;\n",
              "      --hover-bg-color: #434B5C;\n",
              "      --hover-fill-color: #FFFFFF;\n",
              "      --disabled-bg-color: #3B4455;\n",
              "      --disabled-fill-color: #666;\n",
              "  }\n",
              "\n",
              "  .colab-df-quickchart {\n",
              "    background-color: var(--bg-color);\n",
              "    border: none;\n",
              "    border-radius: 50%;\n",
              "    cursor: pointer;\n",
              "    display: none;\n",
              "    fill: var(--fill-color);\n",
              "    height: 32px;\n",
              "    padding: 0;\n",
              "    width: 32px;\n",
              "  }\n",
              "\n",
              "  .colab-df-quickchart:hover {\n",
              "    background-color: var(--hover-bg-color);\n",
              "    box-shadow: 0 1px 2px rgba(60, 64, 67, 0.3), 0 1px 3px 1px rgba(60, 64, 67, 0.15);\n",
              "    fill: var(--button-hover-fill-color);\n",
              "  }\n",
              "\n",
              "  .colab-df-quickchart-complete:disabled,\n",
              "  .colab-df-quickchart-complete:disabled:hover {\n",
              "    background-color: var(--disabled-bg-color);\n",
              "    fill: var(--disabled-fill-color);\n",
              "    box-shadow: none;\n",
              "  }\n",
              "\n",
              "  .colab-df-spinner {\n",
              "    border: 2px solid var(--fill-color);\n",
              "    border-color: transparent;\n",
              "    border-bottom-color: var(--fill-color);\n",
              "    animation:\n",
              "      spin 1s steps(1) infinite;\n",
              "  }\n",
              "\n",
              "  @keyframes spin {\n",
              "    0% {\n",
              "      border-color: transparent;\n",
              "      border-bottom-color: var(--fill-color);\n",
              "      border-left-color: var(--fill-color);\n",
              "    }\n",
              "    20% {\n",
              "      border-color: transparent;\n",
              "      border-left-color: var(--fill-color);\n",
              "      border-top-color: var(--fill-color);\n",
              "    }\n",
              "    30% {\n",
              "      border-color: transparent;\n",
              "      border-left-color: var(--fill-color);\n",
              "      border-top-color: var(--fill-color);\n",
              "      border-right-color: var(--fill-color);\n",
              "    }\n",
              "    40% {\n",
              "      border-color: transparent;\n",
              "      border-right-color: var(--fill-color);\n",
              "      border-top-color: var(--fill-color);\n",
              "    }\n",
              "    60% {\n",
              "      border-color: transparent;\n",
              "      border-right-color: var(--fill-color);\n",
              "    }\n",
              "    80% {\n",
              "      border-color: transparent;\n",
              "      border-right-color: var(--fill-color);\n",
              "      border-bottom-color: var(--fill-color);\n",
              "    }\n",
              "    90% {\n",
              "      border-color: transparent;\n",
              "      border-bottom-color: var(--fill-color);\n",
              "    }\n",
              "  }\n",
              "</style>\n",
              "\n",
              "  <script>\n",
              "    async function quickchart(key) {\n",
              "      const quickchartButtonEl =\n",
              "        document.querySelector('#' + key + ' button');\n",
              "      quickchartButtonEl.disabled = true;  // To prevent multiple clicks.\n",
              "      quickchartButtonEl.classList.add('colab-df-spinner');\n",
              "      try {\n",
              "        const charts = await google.colab.kernel.invokeFunction(\n",
              "            'suggestCharts', [key], {});\n",
              "      } catch (error) {\n",
              "        console.error('Error during call to suggestCharts:', error);\n",
              "      }\n",
              "      quickchartButtonEl.classList.remove('colab-df-spinner');\n",
              "      quickchartButtonEl.classList.add('colab-df-quickchart-complete');\n",
              "    }\n",
              "    (() => {\n",
              "      let quickchartButtonEl =\n",
              "        document.querySelector('#df-fac545ca-e0a6-4bd2-9761-7a6c18473564 button');\n",
              "      quickchartButtonEl.style.display =\n",
              "        google.colab.kernel.accessAllowed ? 'block' : 'none';\n",
              "    })();\n",
              "  </script>\n",
              "</div>\n",
              "    </div>\n",
              "  </div>\n"
            ]
          },
          "metadata": {},
          "execution_count": 20
        }
      ],
      "source": [
        "# 이미지 픽셀 list로 만들기\n",
        "df['pixels'] = df['pixels'].apply(lambda pixel: np.fromstring(pixel, sep=' '))\n",
        "df.head()"
      ]
    },
    {
      "cell_type": "code",
      "execution_count": 21,
      "id": "4b0e40bf",
      "metadata": {
        "colab": {
          "base_uri": "https://localhost:8080/"
        },
        "id": "4b0e40bf",
        "outputId": "cb8e5312-5c8b-482f-b3f5-ab388f5d6523"
      },
      "outputs": [
        {
          "output_type": "stream",
          "name": "stdout",
          "text": [
            "(28709, 3)\n",
            "(3589, 3)\n"
          ]
        }
      ],
      "source": [
        "# train test split\n",
        "train_df = df[df['Usage']=='Training']\n",
        "test_df = df[df['Usage']=='PublicTest']\n",
        "print(train_df.shape)\n",
        "print(test_df.shape)"
      ]
    },
    {
      "cell_type": "code",
      "execution_count": 22,
      "id": "f36e1718",
      "metadata": {
        "id": "f36e1718"
      },
      "outputs": [],
      "source": [
        "# # 데이터프레임에서 train 및 test 데이터를 분할\n",
        "# train_data = df[df['Usage'] == 'Training']\n",
        "# test_data = df[df['Usage'] == 'PublicTest']\n",
        "\n",
        "# # train 및 test 데이터를 CSV 파일로 저장해주는 코드인데 한번만 해도되서 주석처리\n",
        "# train_data.to_csv('train_data.csv', index=False)\n",
        "# test_data.to_csv('test_data.csv', index=False)"
      ]
    },
    {
      "cell_type": "code",
      "execution_count": 23,
      "id": "40a0e739",
      "metadata": {
        "id": "40a0e739"
      },
      "outputs": [],
      "source": [
        "#data set array구조 reshape\n",
        "shape_x = 48\n",
        "shape_y = 48\n",
        "\n",
        "# X_train, y_train, X_test, y_test split\n",
        "X_train = train_df.iloc[:, 1].values # pixles\n",
        "y_train = train_df.iloc[:, 0].values # emotion\n",
        "\n",
        "X_test = test_df.iloc[:, 1].values # pixles\n",
        "y_test = test_df.iloc[:, 0].values # emotion\n",
        "\n",
        "# 전체데이터\n",
        "X = df.iloc[:, 1].values # pixles\n",
        "y = df.iloc[:, 0].values # emotion\n",
        "\n",
        "# array([array([....])]) 구조를 바꾸기 위한 np.vstack\n",
        "X_train = np.vstack(X_train)\n",
        "X_test = np.vstack(X_test)\n",
        "X = np.vstack(X)"
      ]
    },
    {
      "cell_type": "code",
      "source": [
        "X_train.shape"
      ],
      "metadata": {
        "colab": {
          "base_uri": "https://localhost:8080/"
        },
        "id": "VOcPEIetbP-i",
        "outputId": "eb3c0341-a6df-473a-f17f-7d7c81fa7604"
      },
      "id": "VOcPEIetbP-i",
      "execution_count": 24,
      "outputs": [
        {
          "output_type": "execute_result",
          "data": {
            "text/plain": [
              "(28709, 2304)"
            ]
          },
          "metadata": {},
          "execution_count": 24
        }
      ]
    },
    {
      "cell_type": "code",
      "execution_count": 25,
      "id": "8088d99f",
      "metadata": {
        "colab": {
          "base_uri": "https://localhost:8080/"
        },
        "id": "8088d99f",
        "outputId": "8973ce73-c674-4aef-8dd1-b9e8cb9c26e0"
      },
      "outputs": [
        {
          "output_type": "stream",
          "name": "stdout",
          "text": [
            "(28709, 48, 48, 1) (28709, 1)\n",
            "(3589, 48, 48, 1) (3589, 1)\n"
          ]
        }
      ],
      "source": [
        "# 4차원 데이터셋 만들기 (데이터개수, x축, y축, rgb)\n",
        "X_train_ds = np.reshape(X_train, (X_train.shape[0], shape_x, shape_y, 1))\n",
        "y_train_ds = np.reshape(y_train, (y_train.shape[0], 1))\n",
        "\n",
        "X_test_ds = np.reshape(X_test, (X_test.shape[0], shape_x, shape_y, 1))\n",
        "y_test_ds = np.reshape(y_test, (y_test.shape[0], 1))\n",
        "\n",
        "print(X_train_ds.shape, y_train_ds.shape)\n",
        "print(X_test_ds.shape, y_test_ds.shape)"
      ]
    },
    {
      "cell_type": "code",
      "source": [
        "X_train_ds = np.repeat(X_train_ds, 3, axis=-1)\n",
        "X_test_ds = np.repeat(X_test_ds, 3, axis=-1)\n",
        "print(X_train_ds.shape)"
      ],
      "metadata": {
        "colab": {
          "base_uri": "https://localhost:8080/"
        },
        "id": "hccO55fGmSI3",
        "outputId": "700f2c6e-965e-42ba-8dcf-e25431e7e103"
      },
      "id": "hccO55fGmSI3",
      "execution_count": 26,
      "outputs": [
        {
          "output_type": "stream",
          "name": "stdout",
          "text": [
            "(28709, 48, 48, 3)\n"
          ]
        }
      ]
    },
    {
      "cell_type": "markdown",
      "source": [
        "mobiltnetv2는 흑백이 아닌 컬러이미지만을 input으로 받을 수 있음 그래서 채널수를 3으로 변경하는 과정을 추가했음\n",
        "\n",
        "* resnet을 사용못한 이유 = 224,224,3의 이미지크기만을 input으로 넣을 수 있는데 기존 데이터셋 48,48,1에서 224,224,3으로 바꾸는 과정에서 계속해서 세션이 다운되는 문제 발생\n",
        "하지만 mobilenetv2의 경우 채널수만 3으로 맞춰주면 다양한 형태의 이미지도 인풋으로 사용할 수 있고 resnet보다 훨씬 가벼운 모델이라 적합함:"
      ],
      "metadata": {
        "id": "c9A9J1cPrjtA"
      },
      "id": "c9A9J1cPrjtA"
    },
    {
      "cell_type": "code",
      "execution_count": 27,
      "id": "34b7253e",
      "metadata": {
        "colab": {
          "base_uri": "https://localhost:8080/"
        },
        "id": "34b7253e",
        "outputId": "61ef303b-984b-4b83-9191-edc836df035e"
      },
      "outputs": [
        {
          "output_type": "stream",
          "name": "stdout",
          "text": [
            "(48, 48, 3)\n"
          ]
        }
      ],
      "source": [
        "# 데이터타입 float로 변경\n",
        "train_data = X_train_ds.astype('float32')\n",
        "test_data = X_test_ds.astype('float32')\n",
        "\n",
        "# 스케일링\n",
        "train_data /= 225\n",
        "test_data /= 225\n",
        "\n",
        "# y데이터 원핫인코딩\n",
        "train_labels_onehot = to_categorical(y_train_ds)\n",
        "test_labels_onehot = to_categorical(y_test_ds)\n",
        "\n",
        "# input_shape 설정\n",
        "n_rows, n_cols, n_dims = X_train_ds.shape[1:]\n",
        "input_shape = (n_rows, n_cols, n_dims)\n",
        "print(input_shape)"
      ]
    },
    {
      "cell_type": "code",
      "execution_count": 28,
      "id": "5cd45502",
      "metadata": {
        "id": "5cd45502"
      },
      "outputs": [],
      "source": [
        "# 라벨 숫자를 문자로 변경\n",
        "def get_label(argument):\n",
        "    labels = {0:'angry', 1:'disgust', 2:'fear', 3:'happy', 4:'sad', 5:'surprise', 6:'neutral'}\n",
        "    return(labels.get(argument, 'Invalid emotion'))"
      ]
    },
    {
      "cell_type": "code",
      "source": [
        "import matplotlib.pyplot as plt\n",
        "import numpy as np\n",
        "\n",
        "# Train data 중 100번째 이미지\n",
        "n = 100\n",
        "\n",
        "# RGB 색상 채널을 평균화하여 그레이스케일 이미지로 변환\n",
        "gray_image_train = np.mean(X_train_ds[n, :, :, :], axis=2)\n",
        "\n",
        "plt.subplot(121)\n",
        "plt.imshow(gray_image_train, cmap='gray')\n",
        "plt.title(\"Ground Truth : {}\".format(get_label(int(y_train[n]))))\n",
        "\n",
        "# Test data 중 100번째 이미지\n",
        "# RGB 색상 채널을 평균화하여 그레이스케일 이미지로 변환\n",
        "gray_image_test = np.mean(X_test_ds[n, :, :, :], axis=2)\n",
        "\n",
        "plt.subplot(122)\n",
        "plt.imshow(gray_image_test, cmap='gray')\n",
        "plt.title(\"Ground Truth : {}\".format(get_label(int(y_test[n]))))\n",
        "\n",
        "plt.show()\n"
      ],
      "metadata": {
        "colab": {
          "base_uri": "https://localhost:8080/",
          "height": 308
        },
        "id": "xT256-KAow9K",
        "outputId": "3504222d-ee0c-45f8-b43c-f459d52d0c44"
      },
      "id": "xT256-KAow9K",
      "execution_count": 29,
      "outputs": [
        {
          "output_type": "display_data",
          "data": {
            "text/plain": [
              "<Figure size 640x480 with 2 Axes>"
            ],
            "image/png": "[encoded data removed]"
          },
          "metadata": {}
        }
      ]
    },
    {
      "cell_type": "markdown",
      "source": [
        "# 얼굴 감지 함수"
      ],
      "metadata": {
        "id": "R9EKno1P1Gwq"
      },
      "id": "R9EKno1P1Gwq"
    },
    {
      "cell_type": "code",
      "execution_count": null,
      "id": "841a54b7",
      "metadata": {
        "id": "841a54b7"
      },
      "outputs": [],
      "source": [
        "#detect face\n",
        "#얼굴 감지모델은 opencv의 cascade 사용 (미리다운받아놓음)\n",
        "# 전체 이미지에서 얼굴을 찾아내는 함수\n",
        "def detect_face(frame):\n",
        "\n",
        "    # cascade pre-trained 모델 불러오기\n",
        "    face_cascade = cv2.CascadeClassifier(cv2.data.haarcascades + 'haarcascade_frontalface_default.xml')\n",
        "\n",
        "    # RGB를 gray scale로 바꾸기\n",
        "    gray = cv2.cvtColor(frame, cv2.COLOR_BGR2GRAY)\n",
        "\n",
        "    # cascade 멀티스케일 분류\n",
        "    detected_faces = face_cascade.detectMultiScale(gray,\n",
        "                                                   scaleFactor = 1.1,\n",
        "                                                   minNeighbors = 6,\n",
        "                                                   minSize = (shape_x, shape_y),\n",
        "                                                   flags = cv2.CASCADE_SCALE_IMAGE\n",
        "                                                  )\n",
        "\n",
        "    coord = []\n",
        "    for x, y, w, h in detected_faces:\n",
        "        if w > 100:\n",
        "            sub_img = frame[y:y+h, x:x+w]\n",
        "            coord.append([x, y, w, h])\n",
        "\n",
        "    return gray, detected_faces, coord"
      ]
    },
    {
      "cell_type": "code",
      "execution_count": null,
      "id": "f99298ef",
      "metadata": {
        "id": "f99298ef"
      },
      "outputs": [],
      "source": [
        "# 전체 이미지에서 찾아낸 얼굴을 추출하는 함수\n",
        "def extract_face_features(gray, detected_faces, coord, offset_coefficients=(0.075, 0.05)):\n",
        "    new_face = []\n",
        "    for det in detected_faces:\n",
        "\n",
        "        # 얼굴로 감지된 영역\n",
        "        x, y, w, h = det\n",
        "\n",
        "        # 이미지 경계값 받기\n",
        "        horizontal_offset = np.int(np.floor(offset_coefficients[0] * w))\n",
        "        vertical_offset = np.int(np.floor(offset_coefficients[1] * h))\n",
        "\n",
        "        # gray scacle 에서 해당 위치 가져오기\n",
        "        extracted_face = gray[y+vertical_offset:y+h, x+horizontal_offset:x-horizontal_offset+w]\n",
        "\n",
        "        # 얼굴 이미지만 확대\n",
        "        new_extracted_face = zoom(extracted_face, (shape_x/extracted_face.shape[0], shape_y/extracted_face.shape[1]))\n",
        "        new_extracted_face = new_extracted_face.astype(np.float32)\n",
        "        new_extracted_face /= float(new_extracted_face.max()) # sacled\n",
        "        new_face.append(new_extracted_face)\n",
        "\n",
        "    return new_face"
      ]
    },
    {
      "cell_type": "code",
      "execution_count": null,
      "id": "34b8b15d",
      "metadata": {
        "scrolled": true,
        "colab": {
          "base_uri": "https://localhost:8080/",
          "height": 454
        },
        "id": "34b8b15d",
        "outputId": "f7a156e4-905d-4e6c-815c-070e9bcf9bc2"
      },
      "outputs": [
        {
          "output_type": "execute_result",
          "data": {
            "text/plain": [
              "<matplotlib.image.AxesImage at 0x7f5e746a6620>"
            ]
          },
          "metadata": {},
          "execution_count": 32
        },
        {
          "output_type": "display_data",
          "data": {
            "text/plain": [
              "<Figure size 640x480 with 1 Axes>"
            ],
            "image/png": "[encoded data removed]"
          },
          "metadata": {}
        }
      ],
      "source": [
        "jenny = cv2.imread(\"/content/제니.jpeg\")\n",
        "plt.imshow(cv2.cvtColor(jenny, cv2.COLOR_BGR2RGB))"
      ]
    },
    {
      "cell_type": "code",
      "execution_count": null,
      "id": "c8ff2ee2",
      "metadata": {
        "colab": {
          "base_uri": "https://localhost:8080/",
          "height": 450
        },
        "id": "c8ff2ee2",
        "outputId": "b292ef65-1ff3-460b-a4db-07f7fce836e3"
      },
      "outputs": [
        {
          "output_type": "execute_result",
          "data": {
            "text/plain": [
              "<matplotlib.image.AxesImage at 0x7f5e74e3f280>"
            ]
          },
          "metadata": {},
          "execution_count": 33
        },
        {
          "output_type": "display_data",
          "data": {
            "text/plain": [
              "<Figure size 640x480 with 1 Axes>"
            ],
            "image/png": "[encoded data removed]"
          },
          "metadata": {}
        }
      ],
      "source": [
        "# 얼굴 찾기\n",
        "gray, detected_faces, coord = detect_face(jenny)\n",
        "\n",
        "# 찾은 얼굴 추출하기\n",
        "face_zoom = extract_face_features(gray, detected_faces, coord)\n",
        "\n",
        "# 시각화\n",
        "plt.imshow(face_zoom[0])"
      ]
    },
    {
      "cell_type": "markdown",
      "source": [
        "# 감정분석 모델"
      ],
      "metadata": {
        "id": "k7SNuLtW1Kzz"
      },
      "id": "k7SNuLtW1Kzz"
    },
    {
      "cell_type": "code",
      "execution_count": null,
      "id": "f53e447d",
      "metadata": {
        "id": "f53e447d"
      },
      "outputs": [],
      "source": [
        "#감정분석 모델 구축 라인"
      ]
    },
    {
      "cell_type": "code",
      "source": [
        "from tensorflow.keras.applications import MobileNetV2\n",
        "from tensorflow.keras.models import Sequential, Model\n",
        "from tensorflow.keras.layers import Dense, GlobalAveragePooling2D, Dropout\n",
        "\n",
        "def mobilenetv2_model(input_shape):\n",
        "    # MobileNetV2 모델 불러오기 (사전 학습)\n",
        "    mobilenetv2_model = MobileNetV2(weights='imagenet', include_top=False, input_shape=input_shape)\n",
        "\n",
        "    # 재학습을 막기 위한 코드\n",
        "    for layer in mobilenetv2_model.layers:\n",
        "        layer.trainable = False\n",
        "\n",
        "    model = Sequential()\n",
        "    model.add(mobilenetv2_model)\n",
        "\n",
        "    # GlobalAveragePooling2D를 사용하여 Flatten 대신 사용\n",
        "    model.add(GlobalAveragePooling2D())\n",
        "\n",
        "    # Fully connected layer\n",
        "    model.add(Dense(512, activation='relu'))\n",
        "    model.add(Dropout(0.2))\n",
        "\n",
        "    # Output layer with 7 classes\n",
        "    model.add(Dense(7, activation='softmax'))\n",
        "\n",
        "    return model\n",
        "\n",
        "# 입력 이미지의 shape을 지정하세요 (예: (224, 224, 3))\n",
        "input_shape = (48, 48, 3)\n",
        "\n",
        "# MobileNetV2 모델 생성\n",
        "model = mobilenetv2_model(input_shape)\n",
        "\n",
        "# 모델 요약 출력\n",
        "model.summary()\n",
        "\n",
        "\n"
      ],
      "metadata": {
        "colab": {
          "base_uri": "https://localhost:8080/"
        },
        "id": "TSmmemigTHsd",
        "outputId": "fd8ffc29-418c-4418-bb54-9d836ac54a81"
      },
      "id": "TSmmemigTHsd",
      "execution_count": null,
      "outputs": [
        {
          "output_type": "stream",
          "name": "stderr",
          "text": [
            "WARNING:tensorflow:`input_shape` is undefined or non-square, or `rows` is not in [96, 128, 160, 192, 224]. Weights for input shape (224, 224) will be loaded as the default.\n"
          ]
        },
        {
          "output_type": "stream",
          "name": "stdout",
          "text": [
            "Model: \"sequential_1\"\n",
            "_________________________________________________________________\n",
            " Layer (type)                Output Shape              Param #   \n",
            "=================================================================\n",
            " mobilenetv2_1.00_224 (Func  (None, 2, 2, 1280)        2257984   \n",
            " tional)                                                         \n",
            "                                                                 \n",
            " global_average_pooling2d_1  (None, 1280)              0         \n",
            "  (GlobalAveragePooling2D)                                       \n",
            "                                                                 \n",
            " dense_2 (Dense)             (None, 512)               655872    \n",
            "                                                                 \n",
            " dropout_1 (Dropout)         (None, 512)               0         \n",
            "                                                                 \n",
            " dense_3 (Dense)             (None, 7)                 3591      \n",
            "                                                                 \n",
            "=================================================================\n",
            "Total params: 2917447 (11.13 MB)\n",
            "Trainable params: 659463 (2.52 MB)\n",
            "Non-trainable params: 2257984 (8.61 MB)\n",
            "_________________________________________________________________\n"
          ]
        }
      ]
    },
    {
      "cell_type": "code",
      "execution_count": null,
      "id": "1f6e6954",
      "metadata": {
        "colab": {
          "base_uri": "https://localhost:8080/"
        },
        "id": "1f6e6954",
        "outputId": "088e0679-6c99-43ef-f15f-d48e4df2a15b"
      },
      "outputs": [
        {
          "output_type": "stream",
          "name": "stdout",
          "text": [
            "Epoch 1/100\n",
            "113/113 [==============================] - 94s 790ms/step - loss: 1.7495 - accuracy: 0.3153 - val_loss: 1.6422 - val_accuracy: 0.3408\n",
            "Epoch 2/100\n",
            "113/113 [==============================] - 95s 836ms/step - loss: 1.6338 - accuracy: 0.3519 - val_loss: 1.5787 - val_accuracy: 0.3828\n",
            "Epoch 3/100\n",
            "113/113 [==============================] - 95s 835ms/step - loss: 1.6100 - accuracy: 0.3667 - val_loss: 1.5628 - val_accuracy: 0.3870\n",
            "Epoch 4/100\n",
            "113/113 [==============================] - 91s 804ms/step - loss: 1.5964 - accuracy: 0.3712 - val_loss: 1.5574 - val_accuracy: 0.3904\n",
            "Epoch 5/100\n",
            "113/113 [==============================] - 96s 850ms/step - loss: 1.5874 - accuracy: 0.3747 - val_loss: 1.5562 - val_accuracy: 0.3904\n",
            "Epoch 6/100\n",
            "113/113 [==============================] - 115s 1s/step - loss: 1.5716 - accuracy: 0.3849 - val_loss: 1.5472 - val_accuracy: 0.3970\n",
            "Epoch 7/100\n",
            "113/113 [==============================] - 92s 808ms/step - loss: 1.5680 - accuracy: 0.3858 - val_loss: 1.5472 - val_accuracy: 0.3968\n",
            "Epoch 8/100\n",
            "113/113 [==============================] - 89s 785ms/step - loss: 1.5581 - accuracy: 0.3911 - val_loss: 1.5442 - val_accuracy: 0.4001\n",
            "Epoch 9/100\n",
            "113/113 [==============================] - 82s 724ms/step - loss: 1.5518 - accuracy: 0.3952 - val_loss: 1.5325 - val_accuracy: 0.4018\n",
            "Epoch 10/100\n",
            "113/113 [==============================] - 82s 721ms/step - loss: 1.5470 - accuracy: 0.3945 - val_loss: 1.5238 - val_accuracy: 0.3959\n",
            "Epoch 11/100\n",
            "113/113 [==============================] - 87s 767ms/step - loss: 1.5362 - accuracy: 0.4004 - val_loss: 1.5337 - val_accuracy: 0.4021\n",
            "Epoch 12/100\n",
            "113/113 [==============================] - 86s 763ms/step - loss: 1.5252 - accuracy: 0.4046 - val_loss: 1.5396 - val_accuracy: 0.3984\n",
            "Epoch 13/100\n",
            "113/113 [==============================] - 85s 747ms/step - loss: 1.5262 - accuracy: 0.4031 - val_loss: 1.5498 - val_accuracy: 0.3965\n",
            "Epoch 14/100\n",
            "113/113 [==============================] - 86s 765ms/step - loss: 1.5209 - accuracy: 0.4075 - val_loss: 1.5222 - val_accuracy: 0.4018\n",
            "Epoch 15/100\n",
            "113/113 [==============================] - 86s 758ms/step - loss: 1.5166 - accuracy: 0.4119 - val_loss: 1.5293 - val_accuracy: 0.4012\n",
            "Epoch 16/100\n",
            "113/113 [==============================] - 87s 773ms/step - loss: 1.5102 - accuracy: 0.4114 - val_loss: 1.5277 - val_accuracy: 0.3976\n",
            "Epoch 17/100\n",
            "113/113 [==============================] - 81s 717ms/step - loss: 1.5057 - accuracy: 0.4118 - val_loss: 1.5320 - val_accuracy: 0.4068\n",
            "Epoch 18/100\n",
            "113/113 [==============================] - 86s 761ms/step - loss: 1.5025 - accuracy: 0.4150 - val_loss: 1.5180 - val_accuracy: 0.3984\n",
            "Epoch 19/100\n",
            "113/113 [==============================] - 88s 775ms/step - loss: 1.5044 - accuracy: 0.4137 - val_loss: 1.5171 - val_accuracy: 0.4090\n",
            "Epoch 20/100\n",
            "113/113 [==============================] - 83s 730ms/step - loss: 1.4980 - accuracy: 0.4190 - val_loss: 1.5221 - val_accuracy: 0.4082\n",
            "Epoch 21/100\n",
            "113/113 [==============================] - 82s 723ms/step - loss: 1.4965 - accuracy: 0.4173 - val_loss: 1.5164 - val_accuracy: 0.4046\n",
            "Epoch 22/100\n",
            "113/113 [==============================] - 86s 762ms/step - loss: 1.4940 - accuracy: 0.4183 - val_loss: 1.5082 - val_accuracy: 0.4110\n",
            "Epoch 23/100\n",
            "113/113 [==============================] - 88s 782ms/step - loss: 1.4892 - accuracy: 0.4248 - val_loss: 1.5081 - val_accuracy: 0.4079\n",
            "Epoch 24/100\n",
            "113/113 [==============================] - 86s 759ms/step - loss: 1.4844 - accuracy: 0.4275 - val_loss: 1.5044 - val_accuracy: 0.4135\n",
            "Epoch 25/100\n",
            "113/113 [==============================] - 86s 757ms/step - loss: 1.4775 - accuracy: 0.4256 - val_loss: 1.5201 - val_accuracy: 0.4166\n",
            "Epoch 26/100\n",
            "113/113 [==============================] - 82s 726ms/step - loss: 1.4733 - accuracy: 0.4284 - val_loss: 1.5167 - val_accuracy: 0.4032\n",
            "Epoch 27/100\n",
            "113/113 [==============================] - 83s 734ms/step - loss: 1.4708 - accuracy: 0.4311 - val_loss: 1.5090 - val_accuracy: 0.4087\n",
            "Epoch 28/100\n",
            "113/113 [==============================] - 85s 754ms/step - loss: 1.4670 - accuracy: 0.4309 - val_loss: 1.5117 - val_accuracy: 0.4060\n",
            "Epoch 29/100\n",
            "113/113 [==============================] - 83s 724ms/step - loss: 1.4599 - accuracy: 0.4347 - val_loss: 1.5079 - val_accuracy: 0.4154\n",
            "Epoch 30/100\n",
            "113/113 [==============================] - 84s 740ms/step - loss: 1.4634 - accuracy: 0.4334 - val_loss: 1.5167 - val_accuracy: 0.4046\n",
            "Epoch 31/100\n",
            "113/113 [==============================] - 86s 762ms/step - loss: 1.4619 - accuracy: 0.4356 - val_loss: 1.5263 - val_accuracy: 0.4074\n",
            "Epoch 32/100\n",
            "113/113 [==============================] - 85s 750ms/step - loss: 1.4563 - accuracy: 0.4374 - val_loss: 1.5130 - val_accuracy: 0.4110\n",
            "Epoch 33/100\n",
            "113/113 [==============================] - 84s 743ms/step - loss: 1.4593 - accuracy: 0.4361 - val_loss: 1.5186 - val_accuracy: 0.4079\n",
            "Epoch 34/100\n",
            "113/113 [==============================] - 85s 746ms/step - loss: 1.4566 - accuracy: 0.4377 - val_loss: 1.5235 - val_accuracy: 0.4076\n",
            "Epoch 35/100\n",
            "113/113 [==============================] - 85s 755ms/step - loss: 1.4488 - accuracy: 0.4431 - val_loss: 1.5199 - val_accuracy: 0.4065\n",
            "Epoch 36/100\n",
            "113/113 [==============================] - 89s 787ms/step - loss: 1.4431 - accuracy: 0.4407 - val_loss: 1.5309 - val_accuracy: 0.4135\n",
            "Epoch 37/100\n",
            "113/113 [==============================] - 86s 757ms/step - loss: 1.4442 - accuracy: 0.4450 - val_loss: 1.5232 - val_accuracy: 0.4101\n",
            "Epoch 38/100\n",
            "113/113 [==============================] - 86s 761ms/step - loss: 1.4395 - accuracy: 0.4432 - val_loss: 1.5221 - val_accuracy: 0.4121\n",
            "Epoch 39/100\n",
            "113/113 [==============================] - 81s 712ms/step - loss: 1.4360 - accuracy: 0.4440 - val_loss: 1.5263 - val_accuracy: 0.4087\n",
            "Epoch 40/100\n",
            "113/113 [==============================] - 86s 757ms/step - loss: 1.4317 - accuracy: 0.4490 - val_loss: 1.5258 - val_accuracy: 0.4074\n",
            "Epoch 41/100\n",
            "113/113 [==============================] - 81s 718ms/step - loss: 1.4357 - accuracy: 0.4464 - val_loss: 1.5169 - val_accuracy: 0.4110\n",
            "Epoch 42/100\n",
            "113/113 [==============================] - 84s 741ms/step - loss: 1.4255 - accuracy: 0.4507 - val_loss: 1.5285 - val_accuracy: 0.4143\n",
            "Epoch 43/100\n",
            "113/113 [==============================] - 83s 735ms/step - loss: 1.4284 - accuracy: 0.4492 - val_loss: 1.5255 - val_accuracy: 0.4188\n",
            "Epoch 44/100\n",
            "113/113 [==============================] - 82s 723ms/step - loss: 1.4255 - accuracy: 0.4511 - val_loss: 1.5191 - val_accuracy: 0.4126\n",
            "Epoch 45/100\n",
            "113/113 [==============================] - 85s 748ms/step - loss: 1.4231 - accuracy: 0.4508 - val_loss: 1.5221 - val_accuracy: 0.4124\n",
            "Epoch 46/100\n",
            "113/113 [==============================] - 83s 738ms/step - loss: 1.4148 - accuracy: 0.4567 - val_loss: 1.5169 - val_accuracy: 0.4171\n",
            "Epoch 47/100\n",
            "113/113 [==============================] - 82s 734ms/step - loss: 1.4195 - accuracy: 0.4539 - val_loss: 1.5217 - val_accuracy: 0.4205\n",
            "Epoch 48/100\n",
            "113/113 [==============================] - 88s 774ms/step - loss: 1.4158 - accuracy: 0.4572 - val_loss: 1.5127 - val_accuracy: 0.4207\n",
            "Epoch 49/100\n",
            "113/113 [==============================] - 87s 765ms/step - loss: 1.4063 - accuracy: 0.4582 - val_loss: 1.5183 - val_accuracy: 0.4124\n",
            "Epoch 50/100\n",
            "113/113 [==============================] - 82s 722ms/step - loss: 1.4075 - accuracy: 0.4621 - val_loss: 1.5342 - val_accuracy: 0.4149\n",
            "Epoch 51/100\n",
            "113/113 [==============================] - 86s 762ms/step - loss: 1.4061 - accuracy: 0.4570 - val_loss: 1.5403 - val_accuracy: 0.4124\n",
            "Epoch 52/100\n",
            "113/113 [==============================] - 86s 763ms/step - loss: 1.4113 - accuracy: 0.4585 - val_loss: 1.5223 - val_accuracy: 0.4154\n",
            "Epoch 53/100\n",
            "113/113 [==============================] - 82s 720ms/step - loss: 1.4021 - accuracy: 0.4586 - val_loss: 1.5180 - val_accuracy: 0.4138\n",
            "Epoch 54/100\n",
            "113/113 [==============================] - 86s 759ms/step - loss: 1.4058 - accuracy: 0.4607 - val_loss: 1.5242 - val_accuracy: 0.4171\n",
            "Epoch 55/100\n",
            "113/113 [==============================] - 87s 767ms/step - loss: 1.4009 - accuracy: 0.4629 - val_loss: 1.5215 - val_accuracy: 0.4129\n",
            "Epoch 56/100\n",
            "113/113 [==============================] - 83s 729ms/step - loss: 1.4002 - accuracy: 0.4596 - val_loss: 1.5088 - val_accuracy: 0.4182\n",
            "Epoch 57/100\n",
            "113/113 [==============================] - 81s 715ms/step - loss: 1.4068 - accuracy: 0.4577 - val_loss: 1.5264 - val_accuracy: 0.4140\n",
            "Epoch 58/100\n",
            "113/113 [==============================] - 87s 766ms/step - loss: 1.4007 - accuracy: 0.4618 - val_loss: 1.5375 - val_accuracy: 0.4126\n",
            "Epoch 59/100\n",
            "113/113 [==============================] - 86s 771ms/step - loss: 1.3941 - accuracy: 0.4660 - val_loss: 1.5348 - val_accuracy: 0.4143\n",
            "Epoch 60/100\n",
            "113/113 [==============================] - 83s 732ms/step - loss: 1.3888 - accuracy: 0.4649 - val_loss: 1.5221 - val_accuracy: 0.4118\n",
            "Epoch 61/100\n",
            "113/113 [==============================] - 85s 748ms/step - loss: 1.3961 - accuracy: 0.4606 - val_loss: 1.5425 - val_accuracy: 0.4099\n",
            "Epoch 62/100\n",
            "113/113 [==============================] - 87s 765ms/step - loss: 1.3855 - accuracy: 0.4705 - val_loss: 1.5232 - val_accuracy: 0.4168\n",
            "Epoch 63/100\n",
            "113/113 [==============================] - 83s 737ms/step - loss: 1.3866 - accuracy: 0.4686 - val_loss: 1.5190 - val_accuracy: 0.4140\n",
            "Epoch 64/100\n",
            "113/113 [==============================] - 82s 724ms/step - loss: 1.3874 - accuracy: 0.4694 - val_loss: 1.5236 - val_accuracy: 0.4249\n",
            "Epoch 65/100\n",
            "113/113 [==============================] - 82s 728ms/step - loss: 1.3824 - accuracy: 0.4718 - val_loss: 1.5232 - val_accuracy: 0.4143\n",
            "Epoch 66/100\n",
            "113/113 [==============================] - 86s 752ms/step - loss: 1.3856 - accuracy: 0.4693 - val_loss: 1.5297 - val_accuracy: 0.4166\n",
            "Epoch 67/100\n",
            "113/113 [==============================] - 83s 731ms/step - loss: 1.3804 - accuracy: 0.4709 - val_loss: 1.5313 - val_accuracy: 0.4205\n",
            "Epoch 68/100\n",
            "113/113 [==============================] - 86s 760ms/step - loss: 1.3824 - accuracy: 0.4677 - val_loss: 1.5275 - val_accuracy: 0.4280\n",
            "Epoch 69/100\n",
            "113/113 [==============================] - 87s 765ms/step - loss: 1.3815 - accuracy: 0.4718 - val_loss: 1.5216 - val_accuracy: 0.4241\n",
            "Epoch 70/100\n",
            "113/113 [==============================] - 81s 716ms/step - loss: 1.3757 - accuracy: 0.4695 - val_loss: 1.5535 - val_accuracy: 0.4146\n",
            "Epoch 71/100\n",
            "113/113 [==============================] - 83s 730ms/step - loss: 1.3738 - accuracy: 0.4718 - val_loss: 1.5231 - val_accuracy: 0.4269\n",
            "Epoch 72/100\n",
            "113/113 [==============================] - 82s 721ms/step - loss: 1.3803 - accuracy: 0.4683 - val_loss: 1.5293 - val_accuracy: 0.4138\n",
            "Epoch 73/100\n",
            "113/113 [==============================] - 87s 766ms/step - loss: 1.3776 - accuracy: 0.4736 - val_loss: 1.5462 - val_accuracy: 0.4135\n",
            "Epoch 74/100\n",
            "113/113 [==============================] - 89s 784ms/step - loss: 1.3689 - accuracy: 0.4746 - val_loss: 1.5491 - val_accuracy: 0.4160\n",
            "Epoch 75/100\n",
            "113/113 [==============================] - 87s 771ms/step - loss: 1.3691 - accuracy: 0.4730 - val_loss: 1.5257 - val_accuracy: 0.4154\n",
            "Epoch 76/100\n",
            "113/113 [==============================] - 83s 734ms/step - loss: 1.3671 - accuracy: 0.4804 - val_loss: 1.5379 - val_accuracy: 0.4121\n",
            "Epoch 77/100\n",
            "113/113 [==============================] - 82s 721ms/step - loss: 1.3690 - accuracy: 0.4779 - val_loss: 1.5347 - val_accuracy: 0.4149\n",
            "Epoch 78/100\n",
            "113/113 [==============================] - 82s 722ms/step - loss: 1.3646 - accuracy: 0.4752 - val_loss: 1.5281 - val_accuracy: 0.4101\n",
            "Epoch 79/100\n",
            "113/113 [==============================] - 87s 769ms/step - loss: 1.3662 - accuracy: 0.4752 - val_loss: 1.5297 - val_accuracy: 0.4143\n",
            "Epoch 80/100\n",
            "113/113 [==============================] - 86s 754ms/step - loss: 1.3599 - accuracy: 0.4794 - val_loss: 1.5222 - val_accuracy: 0.4235\n",
            "Epoch 81/100\n",
            "113/113 [==============================] - 86s 758ms/step - loss: 1.3623 - accuracy: 0.4780 - val_loss: 1.5347 - val_accuracy: 0.4177\n",
            "Epoch 82/100\n",
            "113/113 [==============================] - 84s 739ms/step - loss: 1.3537 - accuracy: 0.4829 - val_loss: 1.5360 - val_accuracy: 0.4193\n",
            "Epoch 83/100\n",
            "113/113 [==============================] - 87s 761ms/step - loss: 1.3597 - accuracy: 0.4748 - val_loss: 1.5274 - val_accuracy: 0.4283\n",
            "Epoch 84/100\n",
            "113/113 [==============================] - 86s 754ms/step - loss: 1.3515 - accuracy: 0.4862 - val_loss: 1.5252 - val_accuracy: 0.4216\n",
            "Epoch 85/100\n",
            "113/113 [==============================] - 83s 737ms/step - loss: 1.3502 - accuracy: 0.4846 - val_loss: 1.5325 - val_accuracy: 0.4246\n",
            "Epoch 86/100\n",
            "113/113 [==============================] - 83s 735ms/step - loss: 1.3621 - accuracy: 0.4763 - val_loss: 1.5247 - val_accuracy: 0.4160\n",
            "Epoch 87/100\n",
            "113/113 [==============================] - 85s 745ms/step - loss: 1.3525 - accuracy: 0.4829 - val_loss: 1.5310 - val_accuracy: 0.4241\n",
            "Epoch 88/100\n",
            "113/113 [==============================] - 86s 762ms/step - loss: 1.3530 - accuracy: 0.4825 - val_loss: 1.5330 - val_accuracy: 0.4179\n",
            "Epoch 89/100\n",
            "113/113 [==============================] - 86s 764ms/step - loss: 1.3557 - accuracy: 0.4848 - val_loss: 1.5140 - val_accuracy: 0.4291\n",
            "Epoch 90/100\n",
            "113/113 [==============================] - 83s 737ms/step - loss: 1.3481 - accuracy: 0.4860 - val_loss: 1.5167 - val_accuracy: 0.4207\n",
            "Epoch 91/100\n",
            "113/113 [==============================] - 87s 771ms/step - loss: 1.3461 - accuracy: 0.4848 - val_loss: 1.5286 - val_accuracy: 0.4188\n",
            "Epoch 92/100\n",
            "113/113 [==============================] - 81s 719ms/step - loss: 1.3529 - accuracy: 0.4811 - val_loss: 1.5274 - val_accuracy: 0.4207\n",
            "Epoch 93/100\n",
            "113/113 [==============================] - 86s 758ms/step - loss: 1.3466 - accuracy: 0.4863 - val_loss: 1.5266 - val_accuracy: 0.4260\n",
            "Epoch 94/100\n",
            "113/113 [==============================] - 86s 764ms/step - loss: 1.3452 - accuracy: 0.4863 - val_loss: 1.5244 - val_accuracy: 0.4274\n",
            "Epoch 95/100\n",
            "113/113 [==============================] - 86s 759ms/step - loss: 1.3404 - accuracy: 0.4874 - val_loss: 1.5268 - val_accuracy: 0.4235\n",
            "Epoch 96/100\n",
            "113/113 [==============================] - 86s 761ms/step - loss: 1.3425 - accuracy: 0.4895 - val_loss: 1.5373 - val_accuracy: 0.4291\n",
            "Epoch 97/100\n",
            "113/113 [==============================] - 86s 764ms/step - loss: 1.3420 - accuracy: 0.4841 - val_loss: 1.5315 - val_accuracy: 0.4182\n",
            "Epoch 98/100\n",
            "113/113 [==============================] - 87s 771ms/step - loss: 1.3421 - accuracy: 0.4883 - val_loss: 1.5339 - val_accuracy: 0.4230\n",
            "Epoch 99/100\n",
            "113/113 [==============================] - 82s 720ms/step - loss: 1.3378 - accuracy: 0.4928 - val_loss: 1.5464 - val_accuracy: 0.4152\n",
            "Epoch 100/100\n",
            "113/113 [==============================] - 88s 774ms/step - loss: 1.3376 - accuracy: 0.4913 - val_loss: 1.5244 - val_accuracy: 0.4213\n"
          ]
        }
      ],
      "source": [
        "# 이미지 데이터 증강\n",
        "datagen = ImageDataGenerator(zoom_range=0.2,          # 랜덤하게 이미지 줌 하는 비율\n",
        "                             rotation_range=10,       # 랜덤하게 이미지 회전하는 비율 (0도~180도)\n",
        "                             width_shift_range=0.1,   # 랜덤하게 이미지 가로로 이동하는 비율\n",
        "                             height_shift_range=0.1,  # 랜덤하게 이미지 세로로 이동하는 비율\n",
        "                             horizontal_flip=True,    # 랜덤하게 이미지 수평 뒤집기\n",
        "                             vertical_flip=False)     # 랜덤하게 이미지 수직 뒤집기\n",
        "\n",
        "# 모델 학습을 위한 파라미터 설정\n",
        "batch_size = 256\n",
        "n_epochs = 100\n",
        "model.compile(optimizer='adam', loss='categorical_crossentropy', metrics=['accuracy'])\n",
        "history = model.fit_generator(datagen.flow(train_data, train_labels_onehot, batch_size=batch_size),\n",
        "                              steps_per_epoch=int(np.ceil(train_data.shape[0]/float(batch_size))),\n",
        "                              epochs=n_epochs,\n",
        "                              validation_data=(test_data, test_labels_onehot)\n",
        "                             )"
      ]
    },
    {
      "cell_type": "code",
      "source": [
        "# 모델을 저장할 경로 및 파일명 정의\n",
        "model_save_path = '/content/drive/MyDrive/model_sentiment_prediction.h5'\n",
        "\n",
        "# 모델 저장\n",
        "model.save(model_save_path)\n"
      ],
      "metadata": {
        "id": "LZuNgf8gJV4s"
      },
      "id": "LZuNgf8gJV4s",
      "execution_count": null,
      "outputs": []
    },
    {
      "cell_type": "markdown",
      "source": [
        "# 나이와 성별 판별에 필요한 데이터셋과 라이브러리 import"
      ],
      "metadata": {
        "id": "ZXpxdT7k0qnb"
      },
      "id": "ZXpxdT7k0qnb"
    },
    {
      "cell_type": "code",
      "source": [
        "from google.colab import drive\n",
        "drive.mount('/content/drive')"
      ],
      "metadata": {
        "colab": {
          "base_uri": "https://localhost:8080/"
        },
        "id": "mgAYV39vwtoi",
        "outputId": "77108679-d1c9-467b-cc63-ccf409f63bee"
      },
      "id": "mgAYV39vwtoi",
      "execution_count": 6,
      "outputs": [
        {
          "output_type": "stream",
          "name": "stdout",
          "text": [
            "Drive already mounted at /content/drive; to attempt to forcibly remount, call drive.mount(\"/content/drive\", force_remount=True).\n"
          ]
        }
      ]
    },
    {
      "cell_type": "code",
      "source": [
        "import tarfile\n",
        "import os\n",
        "\n",
        "# 압축 파일과 압축을 풀 폴더의 경로 설정\n",
        "tar_path = '/content/drive/MyDrive/part1.tar.gz'\n",
        "extract_path = '/content/drive/MyDrive/'\n",
        "\n",
        "# tar.gz 파일 압축 해제\n",
        "with tarfile.open(tar_path, 'r:gz') as tar:\n",
        "    tar.extractall(extract_path)\n",
        "\n"
      ],
      "metadata": {
        "colab": {
          "base_uri": "https://localhost:8080/",
          "height": 394
        },
        "id": "Ge2-r6G_w_Ht",
        "outputId": "c57a3da3-7c99-4236-83bf-24857dd1d3d0"
      },
      "id": "Ge2-r6G_w_Ht",
      "execution_count": 9,
      "outputs": [
        {
          "output_type": "error",
          "ename": "EOFError",
          "evalue": "ignored",
          "traceback": [
            "\u001b[0;31m---------------------------------------------------------------------------\u001b[0m",
            "\u001b[0;31mEOFError\u001b[0m                                  Traceback (most recent call last)",
            "\u001b[0;32m<ipython-input-9-24be81990e30>\u001b[0m in \u001b[0;36m<cell line: 9>\u001b[0;34m()\u001b[0m\n\u001b[1;32m      8\u001b[0m \u001b[0;31m# tar.gz 파일 압축 해제\u001b[0m\u001b[0;34m\u001b[0m\u001b[0;34m\u001b[0m\u001b[0m\n\u001b[1;32m      9\u001b[0m \u001b[0;32mwith\u001b[0m \u001b[0mtarfile\u001b[0m\u001b[0;34m.\u001b[0m\u001b[0mopen\u001b[0m\u001b[0;34m(\u001b[0m\u001b[0mtar_path\u001b[0m\u001b[0;34m,\u001b[0m \u001b[0;34m'r:gz'\u001b[0m\u001b[0;34m)\u001b[0m \u001b[0;32mas\u001b[0m \u001b[0mtar\u001b[0m\u001b[0;34m:\u001b[0m\u001b[0;34m\u001b[0m\u001b[0;34m\u001b[0m\u001b[0m\n\u001b[0;32m---> 10\u001b[0;31m     \u001b[0mtar\u001b[0m\u001b[0;34m.\u001b[0m\u001b[0mextractall\u001b[0m\u001b[0;34m(\u001b[0m\u001b[0mextract_path\u001b[0m\u001b[0;34m)\u001b[0m\u001b[0;34m\u001b[0m\u001b[0;34m\u001b[0m\u001b[0m\n\u001b[0m\u001b[1;32m     11\u001b[0m \u001b[0;34m\u001b[0m\u001b[0m\n",
            "\u001b[0;32m/usr/lib/python3.10/tarfile.py\u001b[0m in \u001b[0;36mextractall\u001b[0;34m(self, path, members, numeric_owner, filter)\u001b[0m\n\u001b[1;32m   2255\u001b[0m                 \u001b[0;31m# extracting contents can reset mtime.\u001b[0m\u001b[0;34m\u001b[0m\u001b[0;34m\u001b[0m\u001b[0m\n\u001b[1;32m   2256\u001b[0m                 \u001b[0mdirectories\u001b[0m\u001b[0;34m.\u001b[0m\u001b[0mappend\u001b[0m\u001b[0;34m(\u001b[0m\u001b[0mtarinfo\u001b[0m\u001b[0;34m)\u001b[0m\u001b[0;34m\u001b[0m\u001b[0;34m\u001b[0m\u001b[0m\n\u001b[0;32m-> 2257\u001b[0;31m             self._extract_one(tarinfo, path, set_attrs=not tarinfo.isdir(),\n\u001b[0m\u001b[1;32m   2258\u001b[0m                               numeric_owner=numeric_owner)\n\u001b[1;32m   2259\u001b[0m \u001b[0;34m\u001b[0m\u001b[0m\n",
            "\u001b[0;32m/usr/lib/python3.10/tarfile.py\u001b[0m in \u001b[0;36m_extract_one\u001b[0;34m(self, tarinfo, path, set_attrs, numeric_owner)\u001b[0m\n\u001b[1;32m   2318\u001b[0m \u001b[0;34m\u001b[0m\u001b[0m\n\u001b[1;32m   2319\u001b[0m         \u001b[0;32mtry\u001b[0m\u001b[0;34m:\u001b[0m\u001b[0;34m\u001b[0m\u001b[0;34m\u001b[0m\u001b[0m\n\u001b[0;32m-> 2320\u001b[0;31m             self._extract_member(tarinfo, os.path.join(path, tarinfo.name),\n\u001b[0m\u001b[1;32m   2321\u001b[0m                                  \u001b[0mset_attrs\u001b[0m\u001b[0;34m=\u001b[0m\u001b[0mset_attrs\u001b[0m\u001b[0;34m,\u001b[0m\u001b[0;34m\u001b[0m\u001b[0;34m\u001b[0m\u001b[0m\n\u001b[1;32m   2322\u001b[0m                                  numeric_owner=numeric_owner)\n",
            "\u001b[0;32m/usr/lib/python3.10/tarfile.py\u001b[0m in \u001b[0;36m_extract_member\u001b[0;34m(self, tarinfo, targetpath, set_attrs, numeric_owner)\u001b[0m\n\u001b[1;32m   2401\u001b[0m \u001b[0;34m\u001b[0m\u001b[0m\n\u001b[1;32m   2402\u001b[0m         \u001b[0;32mif\u001b[0m \u001b[0mtarinfo\u001b[0m\u001b[0;34m.\u001b[0m\u001b[0misreg\u001b[0m\u001b[0;34m(\u001b[0m\u001b[0;34m)\u001b[0m\u001b[0;34m:\u001b[0m\u001b[0;34m\u001b[0m\u001b[0;34m\u001b[0m\u001b[0m\n\u001b[0;32m-> 2403\u001b[0;31m             \u001b[0mself\u001b[0m\u001b[0;34m.\u001b[0m\u001b[0mmakefile\u001b[0m\u001b[0;34m(\u001b[0m\u001b[0mtarinfo\u001b[0m\u001b[0;34m,\u001b[0m \u001b[0mtargetpath\u001b[0m\u001b[0;34m)\u001b[0m\u001b[0;34m\u001b[0m\u001b[0;34m\u001b[0m\u001b[0m\n\u001b[0m\u001b[1;32m   2404\u001b[0m         \u001b[0;32melif\u001b[0m \u001b[0mtarinfo\u001b[0m\u001b[0;34m.\u001b[0m\u001b[0misdir\u001b[0m\u001b[0;34m(\u001b[0m\u001b[0;34m)\u001b[0m\u001b[0;34m:\u001b[0m\u001b[0;34m\u001b[0m\u001b[0;34m\u001b[0m\u001b[0m\n\u001b[1;32m   2405\u001b[0m             \u001b[0mself\u001b[0m\u001b[0;34m.\u001b[0m\u001b[0mmakedir\u001b[0m\u001b[0;34m(\u001b[0m\u001b[0mtarinfo\u001b[0m\u001b[0;34m,\u001b[0m \u001b[0mtargetpath\u001b[0m\u001b[0;34m)\u001b[0m\u001b[0;34m\u001b[0m\u001b[0;34m\u001b[0m\u001b[0m\n",
            "\u001b[0;32m/usr/lib/python3.10/tarfile.py\u001b[0m in \u001b[0;36mmakefile\u001b[0;34m(self, tarinfo, targetpath)\u001b[0m\n\u001b[1;32m   2454\u001b[0m                 \u001b[0mtarget\u001b[0m\u001b[0;34m.\u001b[0m\u001b[0mtruncate\u001b[0m\u001b[0;34m(\u001b[0m\u001b[0;34m)\u001b[0m\u001b[0;34m\u001b[0m\u001b[0;34m\u001b[0m\u001b[0m\n\u001b[1;32m   2455\u001b[0m             \u001b[0;32melse\u001b[0m\u001b[0;34m:\u001b[0m\u001b[0;34m\u001b[0m\u001b[0;34m\u001b[0m\u001b[0m\n\u001b[0;32m-> 2456\u001b[0;31m                 \u001b[0mcopyfileobj\u001b[0m\u001b[0;34m(\u001b[0m\u001b[0msource\u001b[0m\u001b[0;34m,\u001b[0m \u001b[0mtarget\u001b[0m\u001b[0;34m,\u001b[0m \u001b[0mtarinfo\u001b[0m\u001b[0;34m.\u001b[0m\u001b[0msize\u001b[0m\u001b[0;34m,\u001b[0m \u001b[0mReadError\u001b[0m\u001b[0;34m,\u001b[0m \u001b[0mbufsize\u001b[0m\u001b[0;34m)\u001b[0m\u001b[0;34m\u001b[0m\u001b[0;34m\u001b[0m\u001b[0m\n\u001b[0m\u001b[1;32m   2457\u001b[0m \u001b[0;34m\u001b[0m\u001b[0m\n\u001b[1;32m   2458\u001b[0m     \u001b[0;32mdef\u001b[0m \u001b[0mmakeunknown\u001b[0m\u001b[0;34m(\u001b[0m\u001b[0mself\u001b[0m\u001b[0;34m,\u001b[0m \u001b[0mtarinfo\u001b[0m\u001b[0;34m,\u001b[0m \u001b[0mtargetpath\u001b[0m\u001b[0;34m)\u001b[0m\u001b[0;34m:\u001b[0m\u001b[0;34m\u001b[0m\u001b[0;34m\u001b[0m\u001b[0m\n",
            "\u001b[0;32m/usr/lib/python3.10/tarfile.py\u001b[0m in \u001b[0;36mcopyfileobj\u001b[0;34m(src, dst, length, exception, bufsize)\u001b[0m\n\u001b[1;32m    256\u001b[0m \u001b[0;34m\u001b[0m\u001b[0m\n\u001b[1;32m    257\u001b[0m     \u001b[0;32mif\u001b[0m \u001b[0mremainder\u001b[0m \u001b[0;34m!=\u001b[0m \u001b[0;36m0\u001b[0m\u001b[0;34m:\u001b[0m\u001b[0;34m\u001b[0m\u001b[0;34m\u001b[0m\u001b[0m\n\u001b[0;32m--> 258\u001b[0;31m         \u001b[0mbuf\u001b[0m \u001b[0;34m=\u001b[0m \u001b[0msrc\u001b[0m\u001b[0;34m.\u001b[0m\u001b[0mread\u001b[0m\u001b[0;34m(\u001b[0m\u001b[0mremainder\u001b[0m\u001b[0;34m)\u001b[0m\u001b[0;34m\u001b[0m\u001b[0;34m\u001b[0m\u001b[0m\n\u001b[0m\u001b[1;32m    259\u001b[0m         \u001b[0;32mif\u001b[0m \u001b[0mlen\u001b[0m\u001b[0;34m(\u001b[0m\u001b[0mbuf\u001b[0m\u001b[0;34m)\u001b[0m \u001b[0;34m<\u001b[0m \u001b[0mremainder\u001b[0m\u001b[0;34m:\u001b[0m\u001b[0;34m\u001b[0m\u001b[0;34m\u001b[0m\u001b[0m\n\u001b[1;32m    260\u001b[0m             \u001b[0;32mraise\u001b[0m \u001b[0mexception\u001b[0m\u001b[0;34m(\u001b[0m\u001b[0;34m\"unexpected end of data\"\u001b[0m\u001b[0;34m)\u001b[0m\u001b[0;34m\u001b[0m\u001b[0;34m\u001b[0m\u001b[0m\n",
            "\u001b[0;32m/usr/lib/python3.10/gzip.py\u001b[0m in \u001b[0;36mread\u001b[0;34m(self, size)\u001b[0m\n\u001b[1;32m    299\u001b[0m             \u001b[0;32mimport\u001b[0m \u001b[0merrno\u001b[0m\u001b[0;34m\u001b[0m\u001b[0;34m\u001b[0m\u001b[0m\n\u001b[1;32m    300\u001b[0m             \u001b[0;32mraise\u001b[0m \u001b[0mOSError\u001b[0m\u001b[0;34m(\u001b[0m\u001b[0merrno\u001b[0m\u001b[0;34m.\u001b[0m\u001b[0mEBADF\u001b[0m\u001b[0;34m,\u001b[0m \u001b[0;34m\"read() on write-only GzipFile object\"\u001b[0m\u001b[0;34m)\u001b[0m\u001b[0;34m\u001b[0m\u001b[0;34m\u001b[0m\u001b[0m\n\u001b[0;32m--> 301\u001b[0;31m         \u001b[0;32mreturn\u001b[0m \u001b[0mself\u001b[0m\u001b[0;34m.\u001b[0m\u001b[0m_buffer\u001b[0m\u001b[0;34m.\u001b[0m\u001b[0mread\u001b[0m\u001b[0;34m(\u001b[0m\u001b[0msize\u001b[0m\u001b[0;34m)\u001b[0m\u001b[0;34m\u001b[0m\u001b[0;34m\u001b[0m\u001b[0m\n\u001b[0m\u001b[1;32m    302\u001b[0m \u001b[0;34m\u001b[0m\u001b[0m\n\u001b[1;32m    303\u001b[0m     \u001b[0;32mdef\u001b[0m \u001b[0mread1\u001b[0m\u001b[0;34m(\u001b[0m\u001b[0mself\u001b[0m\u001b[0;34m,\u001b[0m \u001b[0msize\u001b[0m\u001b[0;34m=\u001b[0m\u001b[0;34m-\u001b[0m\u001b[0;36m1\u001b[0m\u001b[0;34m)\u001b[0m\u001b[0;34m:\u001b[0m\u001b[0;34m\u001b[0m\u001b[0;34m\u001b[0m\u001b[0m\n",
            "\u001b[0;32m/usr/lib/python3.10/_compression.py\u001b[0m in \u001b[0;36mreadinto\u001b[0;34m(self, b)\u001b[0m\n\u001b[1;32m     66\u001b[0m     \u001b[0;32mdef\u001b[0m \u001b[0mreadinto\u001b[0m\u001b[0;34m(\u001b[0m\u001b[0mself\u001b[0m\u001b[0;34m,\u001b[0m \u001b[0mb\u001b[0m\u001b[0;34m)\u001b[0m\u001b[0;34m:\u001b[0m\u001b[0;34m\u001b[0m\u001b[0;34m\u001b[0m\u001b[0m\n\u001b[1;32m     67\u001b[0m         \u001b[0;32mwith\u001b[0m \u001b[0mmemoryview\u001b[0m\u001b[0;34m(\u001b[0m\u001b[0mb\u001b[0m\u001b[0;34m)\u001b[0m \u001b[0;32mas\u001b[0m \u001b[0mview\u001b[0m\u001b[0;34m,\u001b[0m \u001b[0mview\u001b[0m\u001b[0;34m.\u001b[0m\u001b[0mcast\u001b[0m\u001b[0;34m(\u001b[0m\u001b[0;34m\"B\"\u001b[0m\u001b[0;34m)\u001b[0m \u001b[0;32mas\u001b[0m \u001b[0mbyte_view\u001b[0m\u001b[0;34m:\u001b[0m\u001b[0;34m\u001b[0m\u001b[0;34m\u001b[0m\u001b[0m\n\u001b[0;32m---> 68\u001b[0;31m             \u001b[0mdata\u001b[0m \u001b[0;34m=\u001b[0m \u001b[0mself\u001b[0m\u001b[0;34m.\u001b[0m\u001b[0mread\u001b[0m\u001b[0;34m(\u001b[0m\u001b[0mlen\u001b[0m\u001b[0;34m(\u001b[0m\u001b[0mbyte_view\u001b[0m\u001b[0;34m)\u001b[0m\u001b[0;34m)\u001b[0m\u001b[0;34m\u001b[0m\u001b[0;34m\u001b[0m\u001b[0m\n\u001b[0m\u001b[1;32m     69\u001b[0m             \u001b[0mbyte_view\u001b[0m\u001b[0;34m[\u001b[0m\u001b[0;34m:\u001b[0m\u001b[0mlen\u001b[0m\u001b[0;34m(\u001b[0m\u001b[0mdata\u001b[0m\u001b[0;34m)\u001b[0m\u001b[0;34m]\u001b[0m \u001b[0;34m=\u001b[0m \u001b[0mdata\u001b[0m\u001b[0;34m\u001b[0m\u001b[0;34m\u001b[0m\u001b[0m\n\u001b[1;32m     70\u001b[0m         \u001b[0;32mreturn\u001b[0m \u001b[0mlen\u001b[0m\u001b[0;34m(\u001b[0m\u001b[0mdata\u001b[0m\u001b[0;34m)\u001b[0m\u001b[0;34m\u001b[0m\u001b[0;34m\u001b[0m\u001b[0m\n",
            "\u001b[0;32m/usr/lib/python3.10/gzip.py\u001b[0m in \u001b[0;36mread\u001b[0;34m(self, size)\u001b[0m\n\u001b[1;32m    505\u001b[0m                 \u001b[0;32mbreak\u001b[0m\u001b[0;34m\u001b[0m\u001b[0;34m\u001b[0m\u001b[0m\n\u001b[1;32m    506\u001b[0m             \u001b[0;32mif\u001b[0m \u001b[0mbuf\u001b[0m \u001b[0;34m==\u001b[0m \u001b[0;34mb\"\"\u001b[0m\u001b[0;34m:\u001b[0m\u001b[0;34m\u001b[0m\u001b[0;34m\u001b[0m\u001b[0m\n\u001b[0;32m--> 507\u001b[0;31m                 raise EOFError(\"Compressed file ended before the \"\n\u001b[0m\u001b[1;32m    508\u001b[0m                                \"end-of-stream marker was reached\")\n\u001b[1;32m    509\u001b[0m \u001b[0;34m\u001b[0m\u001b[0m\n",
            "\u001b[0;31mEOFError\u001b[0m: Compressed file ended before the end-of-stream marker was reached"
          ]
        }
      ]
    },
    {
      "cell_type": "code",
      "source": [
        "extract_path = '/content/drive/MyDrive/part1'"
      ],
      "metadata": {
        "id": "umEwDDgz0bJc"
      },
      "id": "umEwDDgz0bJc",
      "execution_count": 12,
      "outputs": []
    },
    {
      "cell_type": "code",
      "source": [
        "import os\n",
        "\n",
        "# 해제된 파일 목록 확인\n",
        "extracted_files = os.listdir(extract_path)\n",
        "print(extracted_files)\n"
      ],
      "metadata": {
        "id": "RtrTwE2-w_DT",
        "colab": {
          "base_uri": "https://localhost:8080/"
        },
        "outputId": "9cdfa38e-1b78-439d-e20b-751dab14082c"
      },
      "id": "RtrTwE2-w_DT",
      "execution_count": 13,
      "outputs": [
        {
          "output_type": "stream",
          "name": "stdout",
          "text": [
            "['2_1_2_20161219202547820.jpg', '77_1_0_20170110122639530.jpg', '1_1_0_20170109190844250.jpg', '29_1_2_20170105164315483.jpg', '76_1_0_20170110131744527.jpg', '50_1_0_20170110154254311.jpg', '2_1_2_20161219152918020.jpg', '5_1_0_20170109194229104.jpg', '81_1_2_20170105174804349.jpg', '30_0_0_20170105164847516.jpg', '37_1_0_20170104171729234.jpg', '17_0_0_20170104003852806.jpg', '46_0_3_20170104210508188.jpg', '32_1_3_20170104223515310.jpg', '5_1_2_20161219151834275.jpg', '32_0_4_20170105163336092.jpg', '1_1_4_20170103210113314.jpg', '8_1_0_20170109203557851.jpg', '38_0_2_20170104194407752.jpg', '1_0_2_20161219155850477.jpg', '15_0_0_20170110232515682.jpg', '8_0_0_20170110222913531.jpg', '30_1_0_20170104165921257.jpg', '15_1_2_20170104013425867.jpg', '5_1_2_20161219200433267.jpg', '1_0_2_20161219212229166.jpg', '24_1_3_20170104231625010.jpg', '1_0_2_20161219154038141.jpg', '9_0_0_20170110224819698.jpg', '32_0_4_20170104170633305.jpg', '34_0_0_20170104170059137.jpg', '29_0_2_20170104192909672.jpg', '26_0_4_20170103235338373.jpg', '2_0_0_20161219154439741.jpg', '38_0_4_20170109013315959.jpg', '50_1_0_20170110143343917.jpg', '76_0_2_20170105174825693.jpg', '35_1_3_20170104234658417.jpg', '75_0_0_20170111201623183.jpg', '4_0_3_20161219230501650.jpg', '8_1_0_20170109203448247.jpg', '4_1_3_20161220145749167.jpg', '1_0_2_20161219212444782.jpg', '59_0_2_20170104022521749.jpg', '32_1_2_20170104023251558.jpg', '80_0_1_20170111205551658.jpg', '24_1_4_20170104005830151.jpg', '1_1_4_20161221201836401.jpg', '36_1_0_20170105001300131.jpg', '2_1_2_20161219195008500.jpg', '61_1_3_20170104220957942.jpg', '5_0_0_20170110213200213.jpg', '3_1_0_20170109192758746.jpg', '50_0_0_20170111195423102.jpg', '64_1_0_20170110154140951.jpg', '52_0_0_20170104212331895.jpg', '1_1_0_20161219221127151.jpg', '1_0_2_20161219140530307.jpg', '2_0_2_20161219141647272.jpg', '14_1_0_20170104005937407.jpg', '45_1_0_20170110151448578.jpg', '29_1_0_20170104023330606.jpg', '17_1_0_20170105183400255.jpg', '18_1_0_20170109214700491.jpg', '56_0_0_20170111200016066.jpg', '49_1_0_20170103180443960.jpg', '56_0_3_20170109142456550.jpg', '10_0_4_20170103200409638.jpg', '75_1_0_20170110154312939.jpg', '22_1_3_20161220221656537.jpg', '29_0_0_20170104165947522.jpg', '25_1_3_20170104232025362.jpg', '62_1_0_20170110140404141.jpg', '29_0_1_20170104220317630.jpg', '1_1_2_20161219205233581.jpg', '10_1_0_20170109204617417.jpg', '63_1_0_20170109221021608.jpg', '16_1_3_20170104223028462.jpg', '19_1_3_20170104221847479.jpg', '53_1_0_20170110160643219.jpg', '63_1_0_20170110122257987.jpg', '5_1_0_20170109191946614.jpg', '46_1_0_20170105172417134.jpg', '39_1_0_20170103182742753.jpg', '53_1_0_20170110160643313.jpg', '12_1_0_20170109205104124.jpg', '76_1_0_20170110140935777.jpg', '26_1_2_20170104015910819.jpg', '29_0_4_20170103235516820.jpg', '59_1_0_20170110122554230.jpg', '80_0_0_20170111200927317.jpg', '34_1_3_20170105002136348.jpg', '1_1_0_20170109191027883.jpg', '62_1_0_20170110141039449.jpg', '59_0_0_20170111203905144.jpg', '3_0_4_20170103202821873.jpg', '11_1_0_20170109205441860.jpg', '41_1_0_20170103182136025.jpg', '62_0_0_20170104172620514.jpg', '23_1_0_20170103223641295.jpg', '34_1_0_20170103182644010.jpg', '1_0_0_20170110212624891.jpg', '8_1_0_20170104005606487.jpg', '61_1_0_20170110173800240.jpg', '18_0_0_20170110231625906.jpg', '55_0_0_20170105161419947.jpg', '96_1_0_20170110173805290.jpg', '14_1_0_20170103201911744.jpg', '1_1_0_20170109194413813.jpg', '42_1_2_20170107212130951.jpg', '7_1_1_20170109194708063.jpg', '22_1_0_20170105002545990.jpg', '16_1_0_20170109204530608.jpg', '28_0_3_20170104215616229.jpg', '2_0_0_20170110213143544.jpg', '66_1_0_20170110140413980.jpg', '9_0_0_20170102235106821.jpg', '1_1_0_20161219154506229.jpg', '6_1_3_20161220222420627.jpg', '23_1_1_20170103212737732.jpg', '20_1_2_20170103234750663.jpg', '67_0_3_20161220221736930.jpg', '28_1_3_20170104223430207.jpg', '8_1_0_20170109202254541.jpg', '3_1_0_20170109192420753.jpg', '70_0_0_20170104213624677.jpg', '53_1_3_20170104234732082.jpg', '35_1_1_20170109132740903.jpg', '13_1_4_20170103200733438.jpg', '2_1_3_20161219225333464.jpg', '34_0_0_20170109001224685.jpg', '47_0_0_20170104211830788.jpg', '50_0_0_20170111171747294.jpg', '1_0_3_20161219224645904.jpg', '28_1_0_20170105184006661.jpg', '60_1_0_20170110151507697.jpg', '80_0_0_20170111211508161.jpg', '53_0_0_20170111200949284.jpg', '14_0_2_20170103201038791.jpg', '59_1_0_20170110131916835.jpg', '5_1_2_20161219141405008.jpg', '10_1_0_20170103175323250.jpg', '2_0_2_20161219192307618.jpg', '45_1_0_20170104185042110.jpg', '67_0_0_20170111193821219.jpg', '41_1_4_20170104204946628.jpg', '47_0_0_20170103183442514.jpg', '7_0_0_20170110215633251.jpg', '15_1_0_20170109214412116.jpg', '53_1_0_20170110122404436.jpg', '8_0_0_20170103210825483.jpg', '54_1_0_20170109010202728.jpg', '2_0_0_20161219161714486.jpg', '5_1_1_20170104010044345.jpg', '1_1_0_20170109191535466.jpg', '85_1_0_20170110181953748.jpg', '26_1_3_20170109135843276.jpg', '33_0_0_20170105165208905.jpg', '41_1_3_20170109140751299.jpg', '22_1_2_20170104015815276.jpg', '53_1_0_20170104212453853.jpg', '70_0_0_20170111200458107.jpg', '3_1_2_20161219151448835.jpg', '71_1_2_20170105174339014.jpg', '25_1_0_20170103182309849.jpg', '42_0_0_20170109004710455.jpg', '28_0_3_20170104232323178.jpg', '54_0_0_20170104205516571.jpg', '52_1_0_20170109220926115.jpg', '53_1_0_20170110141003065.jpg', '29_1_2_20170109005533803.jpg', '1_0_3_20161219224941016.jpg', '3_1_0_20170109191344231.jpg', '39_1_0_20170103182515161.jpg', '26_1_3_20170104235414180.jpg', '29_0_1_20170104172519610.jpg', '4_1_3_20161219224933671.jpg', '1_1_3_20161220145230678.jpg', '8_0_0_20170110220129114.jpg', '20_1_4_20170104005353062.jpg', '16_0_0_20170110232434079.jpg', '37_0_4_20170104205837940.jpg', '1_0_1_20170110213716266.jpg', '75_0_2_20170110131323894.jpg', '2_1_2_20161219222054159.jpg', '19_0_1_20170110231850376.jpg', '80_1_0_20170110131652409.jpg', '18_1_4_20170103222943622.jpg', '16_0_0_20170110232200900.jpg', '1_0_2_20161219203335428.jpg', '1_1_0_20170109190818115.jpg', '18_1_0_20170109213623055.jpg', '21_1_0_20170103201838744.jpg', '58_1_0_20170104185557607.jpg', '36_1_0_20170105162608884.jpg', '10_0_4_20170104010810728.jpg', '21_1_0_20170109213123896.jpg', '41_1_0_20170104201435202.jpg', '30_1_4_20170103230515409.jpg', '22_0_2_20170104015701971.jpg', '23_1_4_20170103223615095.jpg', '1_0_3_20161219230534953.jpg', '54_0_3_20170104183448533.jpg', '5_0_0_20170103205053570.jpg', '56_1_0_20170110125239994.jpg', '29_1_4_20170103235218684.jpg', '18_0_3_20170104230329273.jpg', '8_1_3_20161220220407073.jpg', '14_1_0_20170109203330417.jpg', '35_1_0_20170104181325301.jpg', '43_1_0_20170103183515393.jpg', '89_1_3_20170109150838156.jpg', '12_1_0_20170109214435512.jpg', '42_0_0_20170104172830274.jpg', '50_0_0_20170104213122948.jpg', '9_0_0_20170110221716630.jpg', '50_0_0_20170111200954229.jpg', '68_0_0_20170111200645876.jpg', '79_1_0_20170110151406182.jpg', '19_0_0_20170103201556447.jpg', '1_1_2_20161219211002173.jpg', '1_0_2_20161219155952157.jpg', '70_1_0_20170111202338431.jpg', '3_1_0_20161219225130536.jpg', '27_1_0_20170103163215342.jpg', '2_1_1_20170109194517710.jpg', '85_1_3_20170110183946188.jpg', '4_0_2_20170110211530774.jpg', '41_1_0_20170109132156624.jpg', '52_0_0_20170111195455240.jpg', '54_0_0_20170109010246118.jpg', '42_1_0_20170110124244590.jpg', '56_0_0_20170111194856535.jpg', '30_1_2_20170105161432042.jpg', '2_0_3_20161219230055704.jpg', '28_0_3_20170104220237582.jpg', '20_0_3_20170104214325910.jpg', '5_1_0_20170109191508473.jpg', '90_1_0_20170110183737626.jpg', '1_0_2_20161219161106398.jpg', '50_1_3_20170104235532885.jpg', '36_1_0_20170104171550313.jpg', '80_1_0_20170110140819226.jpg', '63_0_0_20170109012637610.jpg', '37_0_2_20170104201121090.jpg', '1_0_2_20161219222527222.jpg', '2_1_2_20161219192113948.jpg', '37_0_3_20170109141925516.jpg', '1_0_3_20161220221612859.jpg', '18_1_0_20170109212828069.jpg', '65_1_0_20170110152814579.jpg', '52_1_0_20170109220548552.jpg', '37_0_0_20170104204438250.jpg', '36_0_2_20170105163358596.jpg', '38_0_0_20170105184043687.jpg', '7_1_2_20161219190036147.jpg', '8_1_0_20170109202314510.jpg', '8_1_0_20170109204910999.jpg', '7_0_0_20170110215944035.jpg', '1_1_2_20161219190745330.jpg', '59_0_0_20170111203940975.jpg', '18_1_0_20170109214251980.jpg', '32_1_4_20170103225837104.jpg', '53_0_0_20170104184614982.jpg', '62_0_0_20170104184818725.jpg', '56_1_3_20170104235453123.jpg', '29_1_1_20170103181030152.jpg', '80_0_0_20170105175505310.jpg', '2_1_2_20161219142056888.jpg', '29_1_0_20170103181745425.jpg', '2_0_3_20161219225707719.jpg', '73_0_0_20170111223400971.jpg', '65_0_0_20170111204015410.jpg', '1_0_3_20161219225149888.jpg', '4_1_1_20170110213220193.jpg', '41_0_0_20170104202153954.jpg', '46_1_0_20170109004644302.jpg', '1_0_2_20161219203156557.jpg', '11_1_1_20170109203712835.jpg', '2_1_2_20161219211744478.jpg', '53_1_0_20170110141257440.jpg', '2_0_2_20161219162438366.jpg', '1_0_2_20161219154041477.jpg', '19_1_0_20170103201503695.jpg', '85_1_0_20170110181745563.jpg', '67_1_0_20170109150548754.jpg', '47_1_3_20170104235830612.jpg', '1_1_3_20161219224745191.jpg', '6_1_2_20161219200113379.jpg', '44_0_1_20170111181750405.jpg', '62_0_0_20170104185409782.jpg', '1_1_4_20161221200049328.jpg', '48_0_1_20170104212527708.jpg', '2_1_3_20161219225738912.jpg', '5_0_0_20170110212812061.jpg', '4_1_4_20161221193328366.jpg', '52_0_0_20170111202347090.jpg', '26_0_3_20170104230305945.jpg', '42_1_1_20170104210422988.jpg', '33_1_0_20170103181937009.jpg', '21_0_4_20161223214834745.jpg', '1_1_4_20161221193741869.jpg', '63_1_0_20170109150950547.jpg', '4_0_3_20161220223111195.jpg', '57_1_3_20170105001132532.jpg', '57_0_0_20170111171747487.jpg', '2_0_4_20161221195201991.jpg', '2_1_2_20161219155546973.jpg', '4_0_2_20161219140938368.jpg', '59_0_0_20170111201348742.jpg', '3_0_0_20170110212719382.jpg', '1_0_4_20161221201833209.jpg', '15_0_0_20170110232532949.jpg', '25_1_3_20170109135843276.jpg', '72_1_0_20170110141531648.jpg', '4_1_4_20161223225928843.jpg', '32_1_0_20170109141308065.jpg', '25_1_2_20161219194415803.jpg', '90_0_0_20170111210057456.jpg', '3_1_2_20161219210417277.jpg', '52_1_0_20170110131852751.jpg', '10_1_1_20170109204636561.jpg', '82_1_0_20170110132435984.jpg', '5_1_2_20161219193949523.jpg', '1_1_0_20161219161022878.jpg', '22_1_0_20170109213059848.jpg', '7_1_2_20161219194239107.jpg', '5_0_2_20161219142128680.jpg', '38_1_2_20170109140654630.jpg', '42_1_3_20170109132630643.jpg', '23_1_0_20170103180035647.jpg', '21_1_4_20170103223249191.jpg', '76_1_0_20170110175728311.jpg', '8_1_0_20170109202316791.jpg', '3_1_2_20161219205437357.jpg', '5_1_0_20170109193951363.jpg', '29_1_3_20170104235317706.jpg', '24_1_3_20170104231916690.jpg', '4_0_4_20161221192742413.jpg', '23_1_3_20170104222316911.jpg', '26_1_0_20170109002602686.jpg', '32_0_3_20170104220341542.jpg', '2_1_2_20161219162334438.jpg', '56_1_0_20170110131719553.jpg', '20_1_0_20170103175447799.jpg', '52_1_0_20170110151342799.jpg', '21_0_4_20161223214805057.jpg', '6_1_4_20170103230542025.jpg', '27_1_0_20170103180241879.jpg', '49_0_4_20170104210433927.jpg', '19_1_2_20170104005053831.jpg', '4_1_2_20161219160740335.jpg', '5_1_0_20170109191741223.jpg', '1_1_2_20161219162113982.jpg', '24_0_4_20170103210052027.jpg', '54_1_3_20170109142901150.jpg', '1_1_0_20170109191447766.jpg', '49_1_0_20170104185034878.jpg', '7_1_0_20170109205113183.jpg', '18_1_0_20170109212914272.jpg', '72_1_0_20170110175634167.jpg', '18_1_2_20170109213146944.jpg', '5_1_2_20161219194330923.jpg', '16_0_0_20170110231633585.jpg', '4_1_3_20161219225233848.jpg', '5_1_1_20170103180249368.jpg', '2_0_2_20161219142326480.jpg', '1_0_2_20161219212502046.jpg', '1_0_3_20161219230232072.jpg', '45_0_0_20170104212920676.jpg', '24_1_0_20170103180732376.jpg', '1_1_0_20170109190957578.jpg', '26_1_0_20170104235143076.jpg', '25_1_4_20170103180849713.jpg', '19_1_0_20170105184107718.jpg', '1_1_4_20161221200113728.jpg', '16_1_0_20170109212513215.jpg', '20_1_0_20170105000707730.jpg', '53_0_0_20170104211506941.jpg', '2_1_0_20170109194336216.jpg', '26_1_2_20170105161510388.jpg', '36_1_0_20170103182854050.jpg', '29_0_0_20170107212101093.jpg', '35_0_0_20170104181243711.jpg', '1_0_2_20161219222043223.jpg', '19_1_0_20170105183441000.jpg', '11_0_1_20170103201136230.jpg', '7_0_0_20170110225222391.jpg', '19_1_2_20170104021632526.jpg', '1_1_3_20161220143313302.jpg', '1_0_2_20161219203249692.jpg', '26_0_1_20170103235317796.jpg', '30_0_3_20170105164853052.jpg', '14_1_0_20170109203901444.jpg', '54_1_1_20170104184935862.jpg', '75_0_3_20170111210912724.jpg', '3_0_3_20161219230515152.jpg', '24_1_0_20170104022800709.jpg', '12_1_0_20170109203606169.jpg', '1_0_2_20161219211706614.jpg', '1_0_3_20161220143042511.jpg', '1_0_0_20170110213223460.jpg', '12_1_3_20170104012400657.jpg', '1_0_3_20161219230132696.jpg', '31_1_3_20170109140727630.jpg', '9_0_0_20170110220658769.jpg', '47_0_0_20170105173114291.jpg', '31_1_0_20170103182729649.jpg', '21_1_4_20170103224520560.jpg', '2_1_4_20161221202436617.jpg', '1_0_2_20161219142002631.jpg', '1_1_3_20161220220119985.jpg', '1_0_0_20161220223221043.jpg', '8_1_3_20170104222635007.jpg', '85_1_0_20170110182428223.jpg', '82_0_0_20170111210449740.jpg', '9_0_0_20170110220134026.jpg', '65_0_0_20170104185405486.jpg', '63_0_0_20170102233622267.jpg', '27_1_3_20170104232645690.jpg', '1_0_0_20170110213537039.jpg', '54_0_0_20170111171747438.jpg', '2_1_4_20170103212142324.jpg', '72_1_2_20170110181718497.jpg', '59_0_4_20170105173702564.jpg', '1_1_0_20170109191817067.jpg', '29_1_0_20170103183548206.jpg', '5_0_2_20170110215845491.jpg', '3_1_0_20170109192027975.jpg', '2_0_0_20161219163517871.jpg', '24_0_4_20170102233500506.jpg', '74_0_0_20170111224032125.jpg', '54_1_0_20170110152827859.jpg', '32_0_0_20170105172708084.jpg', '54_1_0_20170104185045990.jpg', '5_1_0_20170109193852084.jpg', '4_0_0_20170110213635871.jpg', '26_1_2_20170104022833734.jpg', '2_0_0_20161219204329404.jpg', '52_1_3_20170105003248564.jpg', '16_0_0_20170110232012908.jpg', '2_1_2_20161219154029060.jpg', '39_0_0_20170111201500864.jpg', '1_1_3_20161220143239294.jpg', '73_1_0_20170110141055369.jpg', '14_0_2_20170104013318514.jpg', '78_0_0_20170111223832508.jpg', '24_0_3_20170104230211113.jpg', '45_0_1_20170111170148435.jpg', '27_0_0_20170105164547923.jpg', '28_1_3_20170104223537760.jpg', '1_1_3_20161219225543960.jpg', '62_0_0_20170104170229321.jpg', '3_0_0_20170110212729799.jpg', '31_1_0_20170104234835075.jpg', '28_1_0_20170105162423130.jpg', '48_1_1_20170109220559770.jpg', '16_0_0_20170110231918043.jpg', '22_1_4_20170103225112465.jpg', '15_1_0_20170109204354264.jpg', '70_1_0_20170110141008498.jpg', '8_1_3_20170109205422312.jpg', '5_0_0_20170110215835907.jpg', '16_1_0_20170102234728107.jpg', '16_0_0_20170110232647979.jpg', '22_0_4_20170104213712014.jpg', '31_1_3_20170104235836460.jpg', '3_1_4_20161221193144389.jpg', '2_0_2_20161219142704833.jpg', '18_1_4_20161223230852802.jpg', '20_1_0_20170109212842300.jpg', '2_1_4_20170103213317172.jpg', '39_0_3_20170104220730909.jpg', '30_1_0_20170109012211696.jpg', '2_0_4_20170103210801579.jpg', '1_0_2_20161219161623174.jpg', '57_0_3_20170104212938069.jpg', '24_1_2_20170104020818270.jpg', '89_1_0_20170110184022572.jpg', '15_0_0_20170103200828591.jpg', '13_0_3_20170110232628896.jpg', '4_0_2_20161219195053667.jpg', '35_1_0_20170103183453835.jpg', '17_1_0_20170109213518093.jpg', '1_1_2_20161219204232221.jpg', '2_1_0_20170109191752762.jpg', '10_1_0_20170109204746535.jpg', '2_0_0_20161219154008997.jpg', '3_1_0_20161219190805051.jpg', '39_1_4_20170109002712574.jpg', '73_1_0_20170110131519640.jpg', '2_0_4_20161221202356481.jpg', '60_0_3_20170104220126534.jpg', '63_0_0_20170105180928702.jpg', '21_0_4_20161223214759249.jpg', '35_1_3_20170104223412190.jpg', '1_1_2_20161219210324181.jpg', '75_0_0_20170111204808623.jpg', '1_1_0_20170109191232555.jpg', '26_1_3_20170104232952337.jpg', '28_1_0_20170104181551957.jpg', '3_1_0_20170109193129215.jpg', '85_1_0_20170110184114479.jpg', '1_0_0_20170110211513139.jpg', '65_1_0_20170110181703594.jpg', '1_0_2_20161219211823957.jpg', '39_0_4_20170104200746817.jpg', '75_0_0_20170111210950605.jpg', '58_1_0_20170105173601797.jpg', '74_0_0_20170111223730444.jpg', '39_1_0_20170105000920922.jpg', '21_1_0_20170109213135260.jpg', '16_0_0_20170104012305505.jpg', '50_0_0_20170111201526040.jpg', '51_1_0_20170109142258293.jpg', '56_1_0_20170104235032259.jpg', '1_1_4_20161221201723169.jpg', '53_1_0_20170109220402884.jpg', '1_0_3_20161219225759904.jpg', '1_0_2_20161219161621566.jpg', '14_1_0_20170109203405475.jpg', '9_1_0_20170109204512608.jpg', '1_0_0_20170110212704144.jpg', '42_0_2_20170104192610039.jpg', '20_1_4_20170103223033527.jpg', '6_1_0_20170109204539812.jpg', '26_0_0_20170105164133579.jpg', '27_1_0_20170111182452802.jpg', '63_0_0_20170104213054221.jpg', '2_0_2_20161219222111287.jpg', '3_0_0_20170110211426831.jpg', '1_0_3_20161219230715892.jpg', '26_1_4_20170103230004440.jpg', '1_1_3_20161219225416559.jpg', '7_1_0_20170109201718572.jpg', '31_1_0_20170103180729440.jpg', '65_0_2_20161219193311243.jpg', '11_0_0_20170110224606036.jpg', '54_1_3_20170109140625083.jpg', '12_1_4_20161223230033380.jpg', '13_1_0_20170109201615837.jpg', '4_1_0_20170109191240933.jpg', '20_0_0_20170105161704786.jpg', '1_1_4_20161221195941912.jpg', '14_0_0_20170103200611317.jpg', '7_0_0_20170110215736826.jpg', '75_1_0_20170109132033628.jpg', '92_1_0_20170110183055235.jpg', '21_1_4_20170103223253239.jpg', '35_1_3_20170104220136126.jpg', '2_1_0_20170110213605785.jpg', '36_1_0_20170104200945656.jpg', '8_1_0_20170109202906495.jpg', '20_0_0_20170104230025073.jpg', '14_0_0_20170104013338922.jpg', '90_1_0_20170110175843628.jpg', '7_0_0_20170110224332642.jpg', '92_1_0_20170110182830022.jpg', '2_1_3_20161220144902743.jpg', '48_1_4_20170104181540549.jpg', '24_0_3_20170104230213449.jpg', '1_0_3_20161219225616560.jpg', '5_1_0_20170109193702627.jpg', '20_1_4_20161223230050564.jpg', '57_0_0_20170104202107434.jpg', '2_1_2_20161219151500019.jpg', '28_1_2_20170104021815094.jpg', '90_0_2_20170111210740854.jpg', '34_1_0_20170104173038042.jpg', '56_1_2_20170105000902100.jpg', '75_0_3_20170105180253006.jpg', '50_0_0_20170109012046787.jpg', '72_1_0_20170110182012800.jpg', '5_1_2_20161219153445412.jpg', '3_1_0_20170103213301485.jpg', '56_0_0_20170111202842202.jpg', '17_0_4_20170103212532692.jpg', '9_0_0_20170110215523228.jpg', '16_0_0_20170110232641966.jpg', '16_1_4_20170103234142187.jpg', '1_1_4_20161221202053505.jpg', '1_0_1_20170110213701704.jpg', '1_0_0_20170109191445171.jpg', '3_1_2_20161219190118219.jpg', '8_0_0_20170110215559811.jpg', '14_0_0_20170110232745742.jpg', '5_0_0_20170110212804775.jpg', '14_0_1_20170110232707718.jpg', '22_1_2_20170104021940541.jpg', '5_1_0_20170109194005140.jpg', '10_0_0_20170103233459275.jpg', '1_0_3_20161219225121728.jpg', '4_1_0_20170109192308345.jpg', '61_1_3_20170109131931185.jpg', '2_0_2_20161219203828132.jpg', '11_1_0_20170109204546617.jpg', '26_1_2_20170109002645487.jpg', '1_1_0_20170109191529313.jpg', '26_0_0_20170105162452859.jpg', '2_1_3_20161219204319508.jpg', '29_1_0_20170105172818813.jpg', '36_0_4_20170103230431017.jpg', '14_1_3_20170104221658783.jpg', '24_1_3_20161220221647314.jpg', '23_0_0_20170105184121759.jpg', '3_1_0_20170109193506319.jpg', '7_0_0_20170110215920604.jpg', '20_1_2_20170109213154546.jpg', '18_1_0_20170109214216731.jpg', '12_0_0_20170103201859385.jpg', '29_1_2_20170104021825031.jpg', '45_1_0_20170111182452911.jpg', '1_0_3_20170104230640081.jpg', '9_0_0_20170110225209168.jpg', '1_1_0_20170109193717283.jpg', '48_0_0_20170104184719245.jpg', '3_1_0_20170110213238474.jpg', '4_0_0_20161220220926474.jpg', '72_1_0_20170110181628038.jpg', '9_0_0_20170110225520159.jpg', '46_1_0_20170105162245243.jpg', '14_0_0_20170110231557039.jpg', '53_1_0_20170110160643204.jpg', '10_0_0_20170110225243501.jpg', '27_1_3_20170104231620409.jpg', '75_0_1_20170111210115928.jpg', '72_1_0_20170110153738448.jpg', '82_0_0_20170111210233971.jpg', '52_1_0_20170104002309261.jpg', '1_1_2_20161219161741126.jpg', '2_0_4_20170103210125060.jpg', '1_0_4_20161221192550798.jpg', '82_0_1_20170111210240036.jpg', '25_1_3_20170104222454999.jpg', '68_0_0_20170111205855178.jpg', '20_1_4_20170103224557431.jpg', '6_0_2_20161219192348922.jpg', '90_0_0_20170110175833643.jpg', '4_0_0_20170110213557125.jpg', '7_0_4_20161221201748793.jpg', '20_1_0_20170103201733831.jpg', '26_1_0_20170109134235854.jpg', '1_1_0_20170109191640395.jpg', '22_1_4_20170104001853773.jpg', '8_1_0_20170109205109678.jpg', '60_1_0_20170110122614299.jpg', '2_1_4_20161221202325137.jpg', '49_1_1_20170104005312671.jpg', '32_1_2_20170103183806483.jpg', '42_0_2_20170104172454139.jpg', '30_0_0_20170104201841050.jpg', '50_1_0_20170109012444348.jpg', '15_1_0_20170109214447621.jpg', '82_0_0_20170111223913094.jpg', '53_0_0_20170111195238954.jpg', '68_0_1_20170111204337366.jpg', '38_0_2_20170109013216517.jpg', '4_1_0_20170109191412927.jpg', '18_1_0_20170109214608184.jpg', '71_0_0_20170111195259809.jpg', '2_1_0_20170109191520985.jpg', '1_1_2_20161219142147841.jpg', '39_1_0_20170104171537233.jpg', '60_1_0_20170110123131564.jpg', '19_1_4_20170103223231399.jpg', '23_1_1_20170102233446754.jpg', '82_0_2_20170111210110290.jpg', '40_1_0_20170104204319051.jpg', '9_0_0_20170110220239466.jpg', '25_1_2_20170104021935245.jpg', '96_1_1_20170110183853718.jpg', '35_0_0_20170104201742041.jpg', '39_1_0_20170104185134518.jpg', '56_1_0_20170110175738208.jpg', '1_1_4_20161221202012433.jpg', '39_1_0_20170109012128721.jpg', '24_1_0_20170111182452767.jpg', '14_0_0_20170104012341136.jpg', '25_0_4_20170103235145124.jpg', '47_1_0_20170110123140034.jpg', '25_0_4_20170103235109805.jpg', '6_1_4_20161223232234756.jpg', '3_0_2_20161219154525565.jpg', '4_1_0_20170109193519993.jpg', '21_1_1_20170103223257503.jpg', '65_1_0_20170110125326249.jpg', '31_1_0_20170103183812243.jpg', '39_0_0_20170105172425829.jpg', '57_1_3_20170104234912850.jpg', '13_0_0_20170110224745977.jpg', '80_0_0_20170111210305500.jpg', '30_1_0_20170103180858952.jpg', '12_1_0_20170109205043077.jpg', '60_0_0_20170111171747553.jpg', '1_1_2_20161219195107011.jpg', '80_0_0_20170111210128898.jpg', '30_1_3_20170104223318647.jpg', '26_1_3_20170104235151882.jpg', '29_1_0_20170104184312581.jpg', '1_0_4_20170110212923157.jpg', '52_0_4_20170104184746311.jpg', '1_0_2_20161219221744255.jpg', '9_0_0_20170110220536562.jpg', '1_0_0_20161219205145821.jpg', '49_1_0_20170105173102837.jpg', '14_1_4_20170109205457235.jpg', '39_1_0_20170103182037472.jpg', '49_0_0_20170104185744454.jpg', '85_1_0_20170110183721942.jpg', '14_1_3_20170104222437734.jpg', '1_1_0_20161219204130316.jpg', '5_0_4_20170103212624758.jpg', '26_1_2_20170104022829221.jpg', '10_0_0_20161220222308131.jpg', '22_1_2_20170105183412088.jpg', '58_0_0_20170104211841244.jpg', '56_1_0_20170109141855995.jpg', '53_1_1_20170104184527846.jpg', '1_1_2_20161219153439021.jpg', '17_1_2_20161219190706307.jpg', '52_1_0_20170110152849848.jpg', '1_0_2_20161219153209772.jpg', '14_0_0_20170110224528797.jpg', '22_1_2_20170104022959942.jpg', '1_1_4_20161221192800604.jpg', '49_1_0_20170111182452933.jpg', '1_0_0_20161219161028662.jpg', '1_1_0_20170109194432489.jpg', '4_1_3_20161219224506577.jpg', '17_0_0_20170110231830374.jpg', '2_1_4_20170103212103556.jpg', '6_1_0_20170109204905156.jpg', '26_1_1_20170109134519311.jpg', '3_0_1_20170110213455106.jpg', '18_1_0_20170109213935367.jpg', '5_1_0_20170104202352685.jpg', '55_0_0_20170111203845708.jpg', '42_0_0_20170105172318206.jpg', '26_1_3_20170104232120449.jpg', '46_0_0_20170104205743292.jpg', '7_1_2_20161219190151899.jpg', '1_1_2_20161219222151847.jpg', '54_0_0_20170104212621156.jpg', '72_0_0_20170111222416133.jpg', '7_1_0_20170109202312260.jpg', '82_0_3_20170105180948808.jpg', '4_0_0_20170110211454141.jpg', '1_0_2_20161219212516942.jpg', '26_1_4_20170105164223948.jpg', '21_1_4_20170103225014665.jpg', '28_0_0_20170109141837163.jpg', '3_1_2_20161219162002349.jpg', '1_0_2_20161219200203132.jpg', '32_1_4_20170103230259201.jpg', '2_1_1_20161219155833405.jpg', '39_0_0_20170104170046913.jpg', '10_0_1_20170104010841239.jpg', '24_0_3_20170104214521685.jpg', '33_1_0_20170103181128408.jpg', '65_0_0_20170111210002336.jpg', '65_1_0_20170110160643938.jpg', '1_0_2_20161219190740218.jpg', '7_1_0_20170109193930338.jpg', '20_1_2_20170104020257804.jpg', '50_1_0_20170109012542626.jpg', '8_1_2_20161219203038308.jpg', '1_0_2_20161219221833407.jpg', '26_1_3_20170109134536902.jpg', '26_1_2_20170104022148861.jpg', '52_0_1_20170111171747356.jpg', '5_1_0_20170109192447108.jpg', '50_0_3_20170104183620454.jpg', '26_0_3_20170104230325016.jpg', '14_0_4_20170103201644927.jpg', '38_0_0_20170104205607908.jpg', '66_0_0_20170104213607429.jpg', '1_1_4_20161221193419158.jpg', '1_0_2_20161219205836181.jpg', '27_0_4_20170104011307960.jpg', '10_0_0_20170110225518663.jpg', '16_0_4_20170103201427977.jpg', '7_1_4_20161221193136085.jpg', '14_1_0_20170109214349442.jpg', '27_0_0_20170103181014215.jpg', '54_0_0_20170104212537133.jpg', '30_0_0_20170109015231305.jpg', '80_0_0_20170111221949087.jpg', '2_1_4_20161221192821980.jpg', '28_0_4_20170103184156947.jpg', '31_0_4_20170108235352933.jpg', '49_0_0_20170109003418343.jpg', '52_0_0_20170104205721803.jpg', '23_1_3_20161220222123987.jpg', '78_0_0_20170111200159377.jpg', '18_1_0_20170109213904824.jpg', '1_1_2_20161219195059035.jpg', '5_0_3_20161220223210595.jpg', '66_0_3_20170104213153549.jpg', '5_0_4_20170103224719055.jpg', '56_1_0_20170110154628271.jpg', '70_0_3_20170105175417710.jpg', '56_1_0_20170110132132356.jpg', '1_0_3_20161219225322506.jpg', '50_0_0_20170109012530622.jpg', '55_1_0_20170110160643407.jpg', '24_1_3_20170104222402975.jpg', '8_1_0_20170109201746036.jpg', '67_0_0_20170111222156279.jpg', '90_1_0_20170110183406830.jpg', '20_0_0_20170105184038831.jpg', '58_0_1_20170111200022771.jpg', '42_1_0_20170103181418742.jpg', '51_0_0_20170105173555117.jpg', '86_0_3_20170111223908826.jpg', '89_1_0_20170110183810930.jpg', '8_1_0_20170109203602997.jpg', '68_1_0_20170110143529881.jpg', '31_1_0_20170103183408770.jpg', '22_0_0_20170110232213323.jpg', '1_0_3_20161220144712431.jpg', '1_1_4_20161221192837420.jpg', '58_1_0_20170110151504170.jpg', '67_1_0_20170110154623389.jpg', '39_0_0_20170104210549580.jpg', '2_0_2_20161219162359990.jpg', '4_1_2_20161219141921961.jpg', '2_0_4_20161221192937540.jpg', '57_1_0_20170109132244248.jpg', '28_0_2_20170104022635829.jpg', '30_1_3_20170104222919855.jpg', '1_0_2_20161219205604996.jpg', '22_1_3_20170104223125535.jpg', '75_1_0_20170110182100626.jpg', '6_1_4_20161221193229605.jpg', '5_1_0_20170109190510318.jpg', '53_0_0_20170104184408718.jpg', '81_1_0_20170110123812204.jpg', '4_1_0_20161219160558133.jpg', '27_1_0_20170105000743720.jpg', '49_0_0_20170104184256957.jpg', '12_1_3_20170104221704334.jpg', '1_1_0_20170109190925628.jpg', '13_0_1_20170110232537879.jpg', '2_1_2_20161219140840080.jpg', '4_0_0_20170110213441609.jpg', '9_0_0_20170110220236260.jpg', '60_1_0_20170110122544644.jpg', '30_1_2_20170104020133916.jpg', '1_1_0_20170109191148861.jpg', '9_0_0_20170110215447268.jpg', '26_1_2_20170104020149844.jpg', '1_1_0_20161219204717605.jpg', '8_1_0_20170109202339392.jpg', '60_0_0_20170111205244694.jpg', '13_1_0_20170109204325267.jpg', '1_0_3_20161220221616882.jpg', '1_0_0_20170110213012671.jpg', '80_1_0_20170110155128293.jpg', '90_0_0_20170111210545876.jpg', '2_0_0_20170109193359075.jpg', '34_0_2_20170105173426253.jpg', '69_1_0_20170110175853077.jpg', '7_1_2_20161219160327198.jpg', '1_1_4_20161221193234997.jpg', '61_1_0_20170110160643735.jpg', '75_0_0_20170111210525525.jpg', '26_0_4_20170103235427740.jpg', '14_1_0_20170109204131257.jpg', '2_0_0_20170103202750479.jpg', '3_1_4_20161223231741788.jpg', '29_0_0_20170104165027441.jpg', '8_1_0_20170109203303253.jpg', '60_0_0_20170111171747558.jpg', '74_1_0_20170110173749526.jpg', '1_0_0_20170110212857171.jpg', '64_1_0_20170110131701333.jpg', '2_1_4_20161221201536537.jpg', '88_1_3_20170110182157752.jpg', '60_0_0_20170103182814970.jpg', '62_0_1_20170111204710125.jpg', '87_1_0_20170110181045529.jpg', '18_0_0_20170110232448997.jpg', '22_1_3_20170104232021658.jpg', '3_1_0_20170109192304730.jpg', '51_1_1_20170110120110913.jpg', '9_0_0_20170110225407300.jpg', '36_0_1_20170105172620093.jpg', '12_1_4_20170103200804119.jpg', '38_0_0_20170105163932764.jpg', '25_1_0_20170104023032454.jpg', '25_1_0_20170103181306464.jpg', '55_1_0_20170110122115175.jpg', '1_0_3_20161219225021361.jpg', '26_0_4_20170103235328516.jpg', '45_0_0_20170104194418815.jpg', '60_1_0_20170110131846245.jpg', '68_0_1_20170111195820243.jpg', '50_0_0_20170111171747307.jpg', '49_1_0_20170111182452938.jpg', '8_1_2_20170109203442372.jpg', '1_1_2_20161221192810669.jpg', '58_0_0_20170104213209283.jpg', '30_0_3_20170108235400941.jpg', '80_1_0_20170110141320400.jpg', '66_1_0_20170110131902685.jpg', '75_1_0_20170110122303534.jpg', '26_0_3_20170104214448709.jpg', '1_0_4_20170103205312818.jpg', '1_0_2_20161219201528716.jpg', '53_0_0_20170109012721891.jpg', '99_1_2_20170110182418864.jpg', '52_1_0_20170105173045268.jpg', '18_1_3_20170109214031495.jpg']\n"
          ]
        }
      ]
    },
    {
      "cell_type": "code",
      "source": [
        "import os\n",
        "import pandas as pd\n",
        "\n",
        "# 데이터셋 폴더 경로\n",
        "dataset_folder = '/content/drive/MyDrive/part1'\n",
        "\n",
        "# 데이터를 저장할 데이터프레임 생성\n",
        "df = pd.DataFrame(columns=['age', 'gender', 'race', 'filename'])\n",
        "\n",
        "# 이미지 파일들의 경로\n",
        "image_paths = [os.path.join(dataset_folder, filename) for filename in os.listdir(dataset_folder) if filename.endswith('.jpg')]\n",
        "\n",
        "# 파일명을 파싱하여 데이터프레임에 추가\n",
        "for image_path in image_paths:\n",
        "    filename = os.path.basename(image_path)\n",
        "    parts = os.path.splitext(filename)[0].split('_')\n",
        "\n",
        "    # 파일명에서 정보 추출\n",
        "    age = int(parts[0])\n",
        "    gender = int(parts[1])\n",
        "    race = int(parts[2])\n",
        "\n",
        "    # 데이터프레임에 추가\n",
        "    df = df.append({'age': age, 'gender': gender, 'race': race, 'filename': filename}, ignore_index=True)\n",
        "\n",
        "# 데이터프레임 출력\n",
        "print(df.head())\n",
        "\n",
        "# CSV 파일로 저장\n",
        "csv_path = '/content/drive/MyDrive/dataset_info.csv'\n",
        "df.to_csv(csv_path, index=False)\n",
        "\n",
        "print(\"데이터셋 정보가 저장되었습니다.\")\n"
      ],
      "metadata": {
        "colab": {
          "base_uri": "https://localhost:8080/"
        },
        "id": "vp0PIZd-7zV7",
        "outputId": "9de1d630-dbfd-4033-d844-d5d46b484395"
      },
      "id": "vp0PIZd-7zV7",
      "execution_count": 16,
      "outputs": [
        {
          "output_type": "stream",
          "name": "stdout",
          "text": [
            "  age gender race                      filename\n",
            "0   2      1    2   2_1_2_20161219202547820.jpg\n",
            "1  77      1    0  77_1_0_20170110122639530.jpg\n",
            "2   1      1    0   1_1_0_20170109190844250.jpg\n",
            "3  29      1    2  29_1_2_20170105164315483.jpg\n",
            "4  76      1    0  76_1_0_20170110131744527.jpg\n",
            "데이터셋 정보가 저장되었습니다.\n"
          ]
        }
      ]
    },
    {
      "cell_type": "code",
      "source": [
        "image_dataset_age = pd.read_csv('/content/drive/MyDrive/dataset_info.csv')\n",
        "image_dataset_age"
      ],
      "metadata": {
        "colab": {
          "base_uri": "https://localhost:8080/",
          "height": 424
        },
        "id": "Ql09tgH28AxN",
        "outputId": "d0b0e196-43e0-4f35-c534-a413180bb447"
      },
      "id": "Ql09tgH28AxN",
      "execution_count": 17,
      "outputs": [
        {
          "output_type": "execute_result",
          "data": {
            "text/plain": [
              "     age  gender  race                      filename\n",
              "0      2       1     2   2_1_2_20161219202547820.jpg\n",
              "1     77       1     0  77_1_0_20170110122639530.jpg\n",
              "2      1       1     0   1_1_0_20170109190844250.jpg\n",
              "3     29       1     2  29_1_2_20170105164315483.jpg\n",
              "4     76       1     0  76_1_0_20170110131744527.jpg\n",
              "..   ...     ...   ...                           ...\n",
              "908    1       0     2   1_0_2_20161219201528716.jpg\n",
              "909   53       0     0  53_0_0_20170109012721891.jpg\n",
              "910   99       1     2  99_1_2_20170110182418864.jpg\n",
              "911   52       1     0  52_1_0_20170105173045268.jpg\n",
              "912   18       1     3  18_1_3_20170109214031495.jpg\n",
              "\n",
              "[913 rows x 4 columns]"
            ],
            "text/html": [
              "\n",
              "  <div id=\"df-69e0a276-96f8-41a7-9529-794d6b301457\" class=\"colab-df-container\">\n",
              "    <div>\n",
              "<style scoped>\n",
              "    .dataframe tbody tr th:only-of-type {\n",
              "        vertical-align: middle;\n",
              "    }\n",
              "\n",
              "    .dataframe tbody tr th {\n",
              "        vertical-align: top;\n",
              "    }\n",
              "\n",
              "    .dataframe thead th {\n",
              "        text-align: right;\n",
              "    }\n",
              "</style>\n",
              "<table border=\"1\" class=\"dataframe\">\n",
              "  <thead>\n",
              "    <tr style=\"text-align: right;\">\n",
              "      <th></th>\n",
              "      <th>age</th>\n",
              "      <th>gender</th>\n",
              "      <th>race</th>\n",
              "      <th>filename</th>\n",
              "    </tr>\n",
              "  </thead>\n",
              "  <tbody>\n",
              "    <tr>\n",
              "      <th>0</th>\n",
              "      <td>2</td>\n",
              "      <td>1</td>\n",
              "      <td>2</td>\n",
              "      <td>2_1_2_20161219202547820.jpg</td>\n",
              "    </tr>\n",
              "    <tr>\n",
              "      <th>1</th>\n",
              "      <td>77</td>\n",
              "      <td>1</td>\n",
              "      <td>0</td>\n",
              "      <td>77_1_0_20170110122639530.jpg</td>\n",
              "    </tr>\n",
              "    <tr>\n",
              "      <th>2</th>\n",
              "      <td>1</td>\n",
              "      <td>1</td>\n",
              "      <td>0</td>\n",
              "      <td>1_1_0_20170109190844250.jpg</td>\n",
              "    </tr>\n",
              "    <tr>\n",
              "      <th>3</th>\n",
              "      <td>29</td>\n",
              "      <td>1</td>\n",
              "      <td>2</td>\n",
              "      <td>29_1_2_20170105164315483.jpg</td>\n",
              "    </tr>\n",
              "    <tr>\n",
              "      <th>4</th>\n",
              "      <td>76</td>\n",
              "      <td>1</td>\n",
              "      <td>0</td>\n",
              "      <td>76_1_0_20170110131744527.jpg</td>\n",
              "    </tr>\n",
              "    <tr>\n",
              "      <th>...</th>\n",
              "      <td>...</td>\n",
              "      <td>...</td>\n",
              "      <td>...</td>\n",
              "      <td>...</td>\n",
              "    </tr>\n",
              "    <tr>\n",
              "      <th>908</th>\n",
              "      <td>1</td>\n",
              "      <td>0</td>\n",
              "      <td>2</td>\n",
              "      <td>1_0_2_20161219201528716.jpg</td>\n",
              "    </tr>\n",
              "    <tr>\n",
              "      <th>909</th>\n",
              "      <td>53</td>\n",
              "      <td>0</td>\n",
              "      <td>0</td>\n",
              "      <td>53_0_0_20170109012721891.jpg</td>\n",
              "    </tr>\n",
              "    <tr>\n",
              "      <th>910</th>\n",
              "      <td>99</td>\n",
              "      <td>1</td>\n",
              "      <td>2</td>\n",
              "      <td>99_1_2_20170110182418864.jpg</td>\n",
              "    </tr>\n",
              "    <tr>\n",
              "      <th>911</th>\n",
              "      <td>52</td>\n",
              "      <td>1</td>\n",
              "      <td>0</td>\n",
              "      <td>52_1_0_20170105173045268.jpg</td>\n",
              "    </tr>\n",
              "    <tr>\n",
              "      <th>912</th>\n",
              "      <td>18</td>\n",
              "      <td>1</td>\n",
              "      <td>3</td>\n",
              "      <td>18_1_3_20170109214031495.jpg</td>\n",
              "    </tr>\n",
              "  </tbody>\n",
              "</table>\n",
              "<p>913 rows × 4 columns</p>\n",
              "</div>\n",
              "    <div class=\"colab-df-buttons\">\n",
              "\n",
              "  <div class=\"colab-df-container\">\n",
              "    <button class=\"colab-df-convert\" onclick=\"convertToInteractive('df-69e0a276-96f8-41a7-9529-794d6b301457')\"\n",
              "            title=\"Convert this dataframe to an interactive table.\"\n",
              "            style=\"display:none;\">\n",
              "\n",
              "  <svg xmlns=\"http://www.w3.org/2000/svg\" height=\"24px\" viewBox=\"0 -960 960 960\">\n",
              "    <path d=\"M120-120v-720h720v720H120Zm60-500h600v-160H180v160Zm220 220h160v-160H400v160Zm0 220h160v-160H400v160ZM180-400h160v-160H180v160Zm440 0h160v-160H620v160ZM180-180h160v-160H180v160Zm440 0h160v-160H620v160Z\"/>\n",
              "  </svg>\n",
              "    </button>\n",
              "\n",
              "  <style>\n",
              "    .colab-df-container {\n",
              "      display:flex;\n",
              "      gap: 12px;\n",
              "    }\n",
              "\n",
              "    .colab-df-convert {\n",
              "      background-color: #E8F0FE;\n",
              "      border: none;\n",
              "      border-radius: 50%;\n",
              "      cursor: pointer;\n",
              "      display: none;\n",
              "      fill: #1967D2;\n",
              "      height: 32px;\n",
              "      padding: 0 0 0 0;\n",
              "      width: 32px;\n",
              "    }\n",
              "\n",
              "    .colab-df-convert:hover {\n",
              "      background-color: #E2EBFA;\n",
              "      box-shadow: 0px 1px 2px rgba(60, 64, 67, 0.3), 0px 1px 3px 1px rgba(60, 64, 67, 0.15);\n",
              "      fill: #174EA6;\n",
              "    }\n",
              "\n",
              "    .colab-df-buttons div {\n",
              "      margin-bottom: 4px;\n",
              "    }\n",
              "\n",
              "    [theme=dark] .colab-df-convert {\n",
              "      background-color: #3B4455;\n",
              "      fill: #D2E3FC;\n",
              "    }\n",
              "\n",
              "    [theme=dark] .colab-df-convert:hover {\n",
              "      background-color: #434B5C;\n",
              "      box-shadow: 0px 1px 3px 1px rgba(0, 0, 0, 0.15);\n",
              "      filter: drop-shadow(0px 1px 2px rgba(0, 0, 0, 0.3));\n",
              "      fill: #FFFFFF;\n",
              "    }\n",
              "  </style>\n",
              "\n",
              "    <script>\n",
              "      const buttonEl =\n",
              "        document.querySelector('#df-69e0a276-96f8-41a7-9529-794d6b301457 button.colab-df-convert');\n",
              "      buttonEl.style.display =\n",
              "        google.colab.kernel.accessAllowed ? 'block' : 'none';\n",
              "\n",
              "      async function convertToInteractive(key) {\n",
              "        const element = document.querySelector('#df-69e0a276-96f8-41a7-9529-794d6b301457');\n",
              "        const dataTable =\n",
              "          await google.colab.kernel.invokeFunction('convertToInteractive',\n",
              "                                                    [key], {});\n",
              "        if (!dataTable) return;\n",
              "\n",
              "        const docLinkHtml = 'Like what you see? Visit the ' +\n",
              "          '<a target=\"_blank\" href=https://colab.research.google.com/notebooks/data_table.ipynb>data table notebook</a>'\n",
              "          + ' to learn more about interactive tables.';\n",
              "        element.innerHTML = '';\n",
              "        dataTable['output_type'] = 'display_data';\n",
              "        await google.colab.output.renderOutput(dataTable, element);\n",
              "        const docLink = document.createElement('div');\n",
              "        docLink.innerHTML = docLinkHtml;\n",
              "        element.appendChild(docLink);\n",
              "      }\n",
              "    </script>\n",
              "  </div>\n",
              "\n",
              "\n",
              "<div id=\"df-c9bd5f7c-368d-451a-ae71-ef8da63ac1fd\">\n",
              "  <button class=\"colab-df-quickchart\" onclick=\"quickchart('df-c9bd5f7c-368d-451a-ae71-ef8da63ac1fd')\"\n",
              "            title=\"Suggest charts\"\n",
              "            style=\"display:none;\">\n",
              "\n",
              "<svg xmlns=\"http://www.w3.org/2000/svg\" height=\"24px\"viewBox=\"0 0 24 24\"\n",
              "     width=\"24px\">\n",
              "    <g>\n",
              "        <path d=\"M19 3H5c-1.1 0-2 .9-2 2v14c0 1.1.9 2 2 2h14c1.1 0 2-.9 2-2V5c0-1.1-.9-2-2-2zM9 17H7v-7h2v7zm4 0h-2V7h2v10zm4 0h-2v-4h2v4z\"/>\n",
              "    </g>\n",
              "</svg>\n",
              "  </button>\n",
              "\n",
              "<style>\n",
              "  .colab-df-quickchart {\n",
              "      --bg-color: #E8F0FE;\n",
              "      --fill-color: #1967D2;\n",
              "      --hover-bg-color: #E2EBFA;\n",
              "      --hover-fill-color: #174EA6;\n",
              "      --disabled-fill-color: #AAA;\n",
              "      --disabled-bg-color: #DDD;\n",
              "  }\n",
              "\n",
              "  [theme=dark] .colab-df-quickchart {\n",
              "      --bg-color: #3B4455;\n",
              "      --fill-color: #D2E3FC;\n",
              "      --hover-bg-color: #434B5C;\n",
              "      --hover-fill-color: #FFFFFF;\n",
              "      --disabled-bg-color: #3B4455;\n",
              "      --disabled-fill-color: #666;\n",
              "  }\n",
              "\n",
              "  .colab-df-quickchart {\n",
              "    background-color: var(--bg-color);\n",
              "    border: none;\n",
              "    border-radius: 50%;\n",
              "    cursor: pointer;\n",
              "    display: none;\n",
              "    fill: var(--fill-color);\n",
              "    height: 32px;\n",
              "    padding: 0;\n",
              "    width: 32px;\n",
              "  }\n",
              "\n",
              "  .colab-df-quickchart:hover {\n",
              "    background-color: var(--hover-bg-color);\n",
              "    box-shadow: 0 1px 2px rgba(60, 64, 67, 0.3), 0 1px 3px 1px rgba(60, 64, 67, 0.15);\n",
              "    fill: var(--button-hover-fill-color);\n",
              "  }\n",
              "\n",
              "  .colab-df-quickchart-complete:disabled,\n",
              "  .colab-df-quickchart-complete:disabled:hover {\n",
              "    background-color: var(--disabled-bg-color);\n",
              "    fill: var(--disabled-fill-color);\n",
              "    box-shadow: none;\n",
              "  }\n",
              "\n",
              "  .colab-df-spinner {\n",
              "    border: 2px solid var(--fill-color);\n",
              "    border-color: transparent;\n",
              "    border-bottom-color: var(--fill-color);\n",
              "    animation:\n",
              "      spin 1s steps(1) infinite;\n",
              "  }\n",
              "\n",
              "  @keyframes spin {\n",
              "    0% {\n",
              "      border-color: transparent;\n",
              "      border-bottom-color: var(--fill-color);\n",
              "      border-left-color: var(--fill-color);\n",
              "    }\n",
              "    20% {\n",
              "      border-color: transparent;\n",
              "      border-left-color: var(--fill-color);\n",
              "      border-top-color: var(--fill-color);\n",
              "    }\n",
              "    30% {\n",
              "      border-color: transparent;\n",
              "      border-left-color: var(--fill-color);\n",
              "      border-top-color: var(--fill-color);\n",
              "      border-right-color: var(--fill-color);\n",
              "    }\n",
              "    40% {\n",
              "      border-color: transparent;\n",
              "      border-right-color: var(--fill-color);\n",
              "      border-top-color: var(--fill-color);\n",
              "    }\n",
              "    60% {\n",
              "      border-color: transparent;\n",
              "      border-right-color: var(--fill-color);\n",
              "    }\n",
              "    80% {\n",
              "      border-color: transparent;\n",
              "      border-right-color: var(--fill-color);\n",
              "      border-bottom-color: var(--fill-color);\n",
              "    }\n",
              "    90% {\n",
              "      border-color: transparent;\n",
              "      border-bottom-color: var(--fill-color);\n",
              "    }\n",
              "  }\n",
              "</style>\n",
              "\n",
              "  <script>\n",
              "    async function quickchart(key) {\n",
              "      const quickchartButtonEl =\n",
              "        document.querySelector('#' + key + ' button');\n",
              "      quickchartButtonEl.disabled = true;  // To prevent multiple clicks.\n",
              "      quickchartButtonEl.classList.add('colab-df-spinner');\n",
              "      try {\n",
              "        const charts = await google.colab.kernel.invokeFunction(\n",
              "            'suggestCharts', [key], {});\n",
              "      } catch (error) {\n",
              "        console.error('Error during call to suggestCharts:', error);\n",
              "      }\n",
              "      quickchartButtonEl.classList.remove('colab-df-spinner');\n",
              "      quickchartButtonEl.classList.add('colab-df-quickchart-complete');\n",
              "    }\n",
              "    (() => {\n",
              "      let quickchartButtonEl =\n",
              "        document.querySelector('#df-c9bd5f7c-368d-451a-ae71-ef8da63ac1fd button');\n",
              "      quickchartButtonEl.style.display =\n",
              "        google.colab.kernel.accessAllowed ? 'block' : 'none';\n",
              "    })();\n",
              "  </script>\n",
              "</div>\n",
              "    </div>\n",
              "  </div>\n"
            ]
          },
          "metadata": {},
          "execution_count": 17
        }
      ]
    },
    {
      "cell_type": "markdown",
      "source": [
        "# 나이 판별 모델"
      ],
      "metadata": {
        "id": "UBbQEkd51O1h"
      },
      "id": "UBbQEkd51O1h"
    },
    {
      "cell_type": "code",
      "execution_count": 37,
      "id": "5274ef87",
      "metadata": {
        "id": "5274ef87",
        "colab": {
          "base_uri": "https://localhost:8080/"
        },
        "outputId": "b22491fc-3bc9-40f1-c70d-db77ba70d39d"
      },
      "outputs": [
        {
          "output_type": "stream",
          "name": "stdout",
          "text": [
            "이미지 18_1_3_20170109214031495.jpg 로드 중 오류 발생: image file is truncated (6 bytes not processed)\n",
            "Epoch 1/10\n",
            "23/23 [==============================] - 87s 4s/step - loss: 1125.9065 - mae: 25.8151 - val_loss: 751.1222 - val_mae: 21.8365\n",
            "Epoch 2/10\n",
            "23/23 [==============================] - 93s 4s/step - loss: 765.2559 - mae: 23.0534 - val_loss: 724.0901 - val_mae: 21.2816\n",
            "Epoch 3/10\n",
            "23/23 [==============================] - 106s 5s/step - loss: 748.2078 - mae: 22.7437 - val_loss: 664.0922 - val_mae: 20.6727\n",
            "Epoch 4/10\n",
            "23/23 [==============================] - 80s 4s/step - loss: 729.8766 - mae: 22.4468 - val_loss: 602.9703 - val_mae: 20.4610\n",
            "Epoch 5/10\n",
            "23/23 [==============================] - 82s 4s/step - loss: 706.0555 - mae: 21.8444 - val_loss: 697.6638 - val_mae: 20.5428\n",
            "Epoch 6/10\n",
            "23/23 [==============================] - 83s 3s/step - loss: 719.9776 - mae: 22.0729 - val_loss: 586.7486 - val_mae: 20.2913\n",
            "Epoch 7/10\n",
            "23/23 [==============================] - 78s 3s/step - loss: 659.5536 - mae: 21.2856 - val_loss: 577.6008 - val_mae: 20.1760\n",
            "Epoch 8/10\n",
            "23/23 [==============================] - 100s 4s/step - loss: 655.9889 - mae: 21.0496 - val_loss: 616.4899 - val_mae: 19.7782\n",
            "Epoch 9/10\n",
            "23/23 [==============================] - 86s 4s/step - loss: 628.6453 - mae: 20.5585 - val_loss: 598.4724 - val_mae: 20.3810\n",
            "Epoch 10/10\n",
            "23/23 [==============================] - 80s 3s/step - loss: 616.0300 - mae: 20.1304 - val_loss: 595.9330 - val_mae: 19.9340\n"
          ]
        },
        {
          "output_type": "execute_result",
          "data": {
            "text/plain": [
              "<keras.src.callbacks.History at 0x7f38b9e0e380>"
            ]
          },
          "metadata": {},
          "execution_count": 37
        }
      ],
      "source": [
        "import pandas as pd\n",
        "from keras.preprocessing.image import load_img, img_to_array\n",
        "from sklearn.model_selection import train_test_split\n",
        "import numpy as np\n",
        "from keras.optimizers import Adam\n",
        "from keras.models import Model\n",
        "from keras.layers import Input, Conv2D, MaxPool2D, Dense, Flatten, Dropout\n",
        "\n",
        "# Load the dataset\n",
        "df = pd.read_csv('/content/drive/MyDrive/dataset_info.csv')  # Replace 'your_dataset.csv' with the actual path to your dataset\n",
        "\n",
        "# Assuming you have the images stored in '/content/drive/MyDrive/part1/'\n",
        "image_folder_path = '/content/drive/MyDrive/part1/'\n",
        "\n",
        "from PIL import Image\n",
        "\n",
        "def load_and_preprocess_image(filename):\n",
        "    try:\n",
        "        img = Image.open(image_folder_path + filename)\n",
        "        img = img.convert('RGB')  # 이미지를 RGB 모드로 변환\n",
        "        img = img.resize((48, 48))  # 원하는 크기로 이미지 크기 조정\n",
        "        img_array = np.array(img)\n",
        "        img_array = img_array / 255.0  # 픽셀 값을 0에서 1 사이로 정규화\n",
        "        return img_array\n",
        "    except Exception as e:\n",
        "        print(f\"이미지 {filename} 로드 중 오류 발생: {str(e)}\")\n",
        "        return None\n",
        "\n",
        "# 데이터프레임의 모든 파일 이름에 전처리 함수를 적용합니다.\n",
        "df['image'] = df['filename'].apply(load_and_preprocess_image)\n",
        "\n",
        "# None 항목을 필터링합니다.\n",
        "df = df.dropna()\n",
        "\n",
        "# 'image' 열을 numpy 배열로 변환합니다.\n",
        "X = np.stack(df['image'].to_numpy())\n",
        "\n",
        "# Apply the preprocessing function to all filenames in the dataframe\n",
        "df['image'] = df['filename'].apply(load_and_preprocess_image)\n",
        "\n",
        "# Convert the 'image' column to a numpy array\n",
        "X = np.stack(df['image'].to_numpy())\n",
        "\n",
        "# Extract the labels\n",
        "y = df['age'].to_numpy()\n",
        "\n",
        "# Split the data into training and testing sets\n",
        "X_train, X_test, y_train, y_test = train_test_split(X, y, test_size=0.2, random_state=42)\n",
        "\n",
        "# Define the model\n",
        "input_shape = (48, 48, 3)\n",
        "input_layer = Input(shape=input_shape)\n",
        "\n",
        "# ... (your model architecture)\n",
        "input = Input(shape=(48, 48, 3))\n",
        "\n",
        "cnn1 = Conv2D(128, kernel_size=3, activation='relu')(input)\n",
        "cnn1 = Conv2D(128, kernel_size=3, activation='relu')(cnn1)\n",
        "cnn1 = Conv2D(128, kernel_size=3, activation='relu')(cnn1)\n",
        "cnn1 = MaxPool2D(pool_size=3, strides=2)(cnn1)\n",
        "\n",
        "cnn2 = Conv2D(128, kernel_size=3, activation='relu')(cnn1)\n",
        "cnn2 = Conv2D(128, kernel_size=3, activation='relu')(cnn2)\n",
        "cnn2 = Conv2D(128, kernel_size=3, activation='relu')(cnn2)\n",
        "cnn2 = MaxPool2D(pool_size=3, strides=2)(cnn2)\n",
        "\n",
        "dense = Flatten()(cnn2)\n",
        "dense = Dropout(0.2)(dense)\n",
        "dense = Dense(1024, activation='relu')(dense)\n",
        "dense = Dense(1024, activation='relu')(dense)\n",
        "\n",
        "output = Dense(1, activation='linear', name='age')(dense)\n",
        "\n",
        "model_age = Model(input, output)\n",
        "model_age.compile(optimizer=Adam(0.0001), loss='mse', metrics=['mae'])\n",
        "\n",
        "\n",
        "# Compile the model\n",
        "model_age.compile(optimizer=Adam(0.0001), loss='mse', metrics=['mae'])\n",
        "\n",
        "# Train the model\n",
        "model_age.fit(X_train, y_train, epochs=100, batch_size=32, validation_data=(X_test, y_test))\n"
      ]
    },
    {
      "cell_type": "code",
      "source": [
        "# Evaluate the model on the test set\n",
        "results = model_age.evaluate(X_test, y_test, batch_size=32)\n",
        "\n",
        "# Print the evaluation results\n",
        "print(\"Test Loss:\", results[0])\n",
        "print(\"Test MAE (Mean Absolute Error):\", results[1])\n"
      ],
      "metadata": {
        "colab": {
          "base_uri": "https://localhost:8080/"
        },
        "id": "Cwc3ET8YFG_2",
        "outputId": "d840548d-6516-4e6d-e5d1-c7a788c566b5"
      },
      "id": "Cwc3ET8YFG_2",
      "execution_count": 38,
      "outputs": [
        {
          "output_type": "stream",
          "name": "stdout",
          "text": [
            "6/6 [==============================] - 5s 799ms/step - loss: 595.9330 - mae: 19.9340\n",
            "Test Loss: 595.9329833984375\n",
            "Test MAE (Mean Absolute Error): 19.93398094177246\n"
          ]
        }
      ]
    },
    {
      "cell_type": "code",
      "source": [
        "# 예측을 얻기 위해 모델을 사용\n",
        "sample_index = 0  # 테스트 셋에서 확인하고 싶은 이미지의 인덱스\n",
        "sample_image = X_test[sample_index].reshape(1, 48, 48, 3)  # 배치 차원 추가\n",
        "\n",
        "# 예측 수행\n",
        "prediction = model_age.predict(sample_image)\n",
        "\n",
        "# 예측 결과 출력\n",
        "print(\"실제 나이:\", y_test[sample_index])\n",
        "print(\"모델 예측 나이:\", prediction[0, 0])\n"
      ],
      "metadata": {
        "colab": {
          "base_uri": "https://localhost:8080/"
        },
        "id": "TNWV_GdVGHFe",
        "outputId": "ee2d5ea1-78d4-40e8-e4e6-3077d0570143"
      },
      "id": "TNWV_GdVGHFe",
      "execution_count": 39,
      "outputs": [
        {
          "output_type": "stream",
          "name": "stdout",
          "text": [
            "1/1 [==============================] - 0s 434ms/step\n",
            "실제 나이: 42\n",
            "모델 예측 나이: 28.91879\n"
          ]
        }
      ]
    },
    {
      "cell_type": "code",
      "source": [
        "plt.imshow(X_test[sample_index])\n",
        "plt.title(f\"Actual Age: {y_test[sample_index]}, Predicted Age: {prediction[0, 0]}\")\n",
        "plt.show()"
      ],
      "metadata": {
        "colab": {
          "base_uri": "https://localhost:8080/",
          "height": 452
        },
        "id": "E1ff81OHGS6b",
        "outputId": "91bbf5a9-5724-43f8-967b-624bb6c60cfd"
      },
      "id": "E1ff81OHGS6b",
      "execution_count": 41,
      "outputs": [
        {
          "output_type": "display_data",
          "data": {
            "text/plain": [
              "<Figure size 640x480 with 1 Axes>"
            ],
            "image/png": "[encoded data removed]"
          },
          "metadata": {}
        }
      ]
    },
    {
      "cell_type": "code",
      "source": [
        "# 모델 저장\n",
        "\n",
        "# 모델을 저장할 경로 및 파일명 정의\n",
        "model_save_path = '/content/drive/MyDrive/model_age_prediction.h5'\n",
        "\n",
        "# 모델 저장\n",
        "model_age.save(model_save_path)\n"
      ],
      "metadata": {
        "id": "xVFTlCTZI79D"
      },
      "id": "xVFTlCTZI79D",
      "execution_count": 56,
      "outputs": []
    },
    {
      "cell_type": "markdown",
      "source": [
        "# 성별 판별 모델"
      ],
      "metadata": {
        "id": "MoqCphXw1R7C"
      },
      "id": "MoqCphXw1R7C"
    },
    {
      "cell_type": "code",
      "execution_count": 44,
      "id": "2ce572f5",
      "metadata": {
        "id": "2ce572f5",
        "colab": {
          "base_uri": "https://localhost:8080/"
        },
        "outputId": "4104b376-e6ed-4866-b209-bf120689fe04"
      },
      "outputs": [
        {
          "output_type": "stream",
          "name": "stdout",
          "text": [
            "이미지 18_1_3_20170109214031495.jpg 로드 중 오류 발생: image file is truncated (6 bytes not processed)\n",
            "Epoch 1/10\n",
            "23/23 [==============================] - 4s 138ms/step - loss: 0.6864 - accuracy: 0.5569 - val_loss: 0.6720 - val_accuracy: 0.6011\n",
            "Epoch 2/10\n",
            "23/23 [==============================] - 5s 202ms/step - loss: 0.6851 - accuracy: 0.5665 - val_loss: 0.6698 - val_accuracy: 0.6011\n",
            "Epoch 3/10\n",
            "23/23 [==============================] - 5s 212ms/step - loss: 0.6792 - accuracy: 0.5665 - val_loss: 0.6706 - val_accuracy: 0.6011\n",
            "Epoch 4/10\n",
            "23/23 [==============================] - 3s 134ms/step - loss: 0.6783 - accuracy: 0.5748 - val_loss: 0.6654 - val_accuracy: 0.6011\n",
            "Epoch 5/10\n",
            "23/23 [==============================] - 3s 148ms/step - loss: 0.6701 - accuracy: 0.5665 - val_loss: 0.6662 - val_accuracy: 0.6120\n",
            "Epoch 6/10\n",
            "23/23 [==============================] - 3s 142ms/step - loss: 0.6600 - accuracy: 0.5844 - val_loss: 0.6590 - val_accuracy: 0.6175\n",
            "Epoch 7/10\n",
            "23/23 [==============================] - 5s 225ms/step - loss: 0.6484 - accuracy: 0.6008 - val_loss: 0.6594 - val_accuracy: 0.5847\n",
            "Epoch 8/10\n",
            "23/23 [==============================] - 4s 171ms/step - loss: 0.6337 - accuracy: 0.6200 - val_loss: 0.7007 - val_accuracy: 0.5137\n",
            "Epoch 9/10\n",
            "23/23 [==============================] - 3s 136ms/step - loss: 0.6330 - accuracy: 0.6283 - val_loss: 0.6605 - val_accuracy: 0.5792\n",
            "Epoch 10/10\n",
            "23/23 [==============================] - 3s 136ms/step - loss: 0.6106 - accuracy: 0.6529 - val_loss: 0.6590 - val_accuracy: 0.6011\n"
          ]
        },
        {
          "output_type": "execute_result",
          "data": {
            "text/plain": [
              "<keras.src.callbacks.History at 0x7f38b9faafb0>"
            ]
          },
          "metadata": {},
          "execution_count": 44
        }
      ],
      "source": [
        "import pandas as pd\n",
        "from keras.preprocessing.image import load_img, img_to_array\n",
        "from sklearn.model_selection import train_test_split\n",
        "import numpy as np\n",
        "from keras.optimizers import Adam\n",
        "from keras.models import Model\n",
        "from keras.layers import Input, Conv2D, MaxPool2D, Dense, Flatten, Dropout\n",
        "\n",
        "# Load the dataset\n",
        "df = pd.read_csv('/content/drive/MyDrive/dataset_info.csv')  # Replace 'your_dataset.csv' with the actual path to your dataset\n",
        "\n",
        "# Assuming you have the images stored in '/content/drive/MyDrive/part1/'\n",
        "image_folder_path = '/content/drive/MyDrive/part1/'\n",
        "\n",
        "from PIL import Image\n",
        "\n",
        "def load_and_preprocess_image(filename):\n",
        "    try:\n",
        "        img = Image.open(image_folder_path + filename)\n",
        "        img = img.convert('RGB')  # 이미지를 RGB 모드로 변환\n",
        "        img = img.resize((48, 48))  # 원하는 크기로 이미지 크기 조정\n",
        "        img_array = np.array(img)\n",
        "        img_array = img_array / 255.0  # 픽셀 값을 0에서 1 사이로 정규화\n",
        "        return img_array\n",
        "    except Exception as e:\n",
        "        print(f\"이미지 {filename} 로드 중 오류 발생: {str(e)}\")\n",
        "        return None\n",
        "\n",
        "# 데이터프레임의 모든 파일 이름에 전처리 함수를 적용합니다.\n",
        "df['image'] = df['filename'].apply(load_and_preprocess_image)\n",
        "\n",
        "# None 항목을 필터링합니다.\n",
        "df = df.dropna()\n",
        "\n",
        "# 'image' 열을 numpy 배열로 변환합니다.\n",
        "X = np.stack(df['image'].to_numpy())\n",
        "\n",
        "# Apply the preprocessing function to all filenames in the dataframe\n",
        "df['image'] = df['filename'].apply(load_and_preprocess_image)\n",
        "\n",
        "# Convert the 'image' column to a numpy array\n",
        "X = np.stack(df['image'].to_numpy())\n",
        "\n",
        "# Extract the labels\n",
        "y = df['gender'].to_numpy()\n",
        "\n",
        "# Split the data into training and testing sets\n",
        "X_train, X_test, y_train, y_test = train_test_split(X, y, test_size=0.2, random_state=42)\n",
        "\n",
        "# Define the model\n",
        "input_shape = (48, 48, 3)\n",
        "input_layer = Input(shape=input_shape)\n",
        "\n",
        "# ... (your model architecture)\n",
        "cnn1 = Conv2D(36, kernel_size=3, activation='relu')(input)\n",
        "cnn1 = MaxPool2D(pool_size=3, strides=2)(cnn1)\n",
        "cnn2 = Conv2D(64, kernel_size=3, activation='relu')(cnn1)\n",
        "cnn2 = MaxPool2D(pool_size=3, strides=2)(cnn2)\n",
        "cnn3 = Conv2D(128, kernel_size=3, activation='relu')(cnn2)\n",
        "cnn3 = MaxPool2D(pool_size=3, strides=2)(cnn3)\n",
        "\n",
        "dense = Flatten()(cnn3)\n",
        "dense = Dropout(0.2)(dense)\n",
        "dense = Dense(512, activation='relu')(dense)\n",
        "dense = Dense(512, activation='relu')(dense)\n",
        "output = Dense(1, activation='sigmoid', name='gender')(dense)\n",
        "model_sex = Model(input, output)\n",
        "model_sex.compile(optimizer=Adam(learning_rate=0.0001), loss='binary_crossentropy', metrics=['accuracy'])\n",
        "\n",
        "\n",
        "# Train the model\n",
        "model_sex.fit(X_train, y_train, epochs=100, batch_size=32, validation_data=(X_test, y_test))"
      ]
    },
    {
      "cell_type": "code",
      "execution_count": 45,
      "id": "b471d255",
      "metadata": {
        "id": "b471d255",
        "colab": {
          "base_uri": "https://localhost:8080/"
        },
        "outputId": "2fa87d73-f0f0-4790-edf3-2c4dc16b0266"
      },
      "outputs": [
        {
          "output_type": "stream",
          "name": "stdout",
          "text": [
            "6/6 [==============================] - 4s 686ms/step - loss: 904.4649 - mae: 28.4714\n",
            "Test Loss: 904.4649047851562\n",
            "Test MAE (Mean Absolute Error): 28.471351623535156\n"
          ]
        }
      ],
      "source": [
        "# Evaluate the model on the test set\n",
        "results = model_age.evaluate(X_test, y_test, batch_size=32)\n",
        "\n",
        "# Print the evaluation results\n",
        "print(\"Test Loss:\", results[0])\n",
        "print(\"Test MAE (Mean Absolute Error):\", results[1])\n"
      ]
    },
    {
      "cell_type": "code",
      "execution_count": 54,
      "id": "9bd04dfe",
      "metadata": {
        "id": "9bd04dfe",
        "colab": {
          "base_uri": "https://localhost:8080/"
        },
        "outputId": "ec646c1a-40be-4e2e-f499-402585b1fb7f"
      },
      "outputs": [
        {
          "output_type": "stream",
          "name": "stdout",
          "text": [
            "1/1 [==============================] - 0s 23ms/step\n",
            "실제 성별: 0\n",
            "모델 예측 성별: 0.6559191\n"
          ]
        }
      ],
      "source": [
        "# 예측을 얻기 위해 모델을 사용\n",
        "sample_index = 0  # 테스트 셋에서 확인하고 싶은 이미지의 인덱스\n",
        "sample_image = X_test[sample_index].reshape(1, 48, 48, 3)  # 배치 차원 추가\n",
        "\n",
        "# 예측 수행\n",
        "prediction = model_sex.predict(sample_image)\n",
        "\n",
        "# 예측 결과 출력\n",
        "print(\"실제 성별:\", y_test[sample_index])\n",
        "print(\"모델 예측 성별:\", prediction[0, 0])"
      ]
    },
    {
      "cell_type": "code",
      "execution_count": 55,
      "id": "db6eef4c",
      "metadata": {
        "id": "db6eef4c",
        "colab": {
          "base_uri": "https://localhost:8080/",
          "height": 452
        },
        "outputId": "fd3fb386-55e5-4cd4-e10b-d6c16de9c5ed"
      },
      "outputs": [
        {
          "output_type": "display_data",
          "data": {
            "text/plain": [
              "<Figure size 640x480 with 1 Axes>"
            ],
            "image/png": "[encoded data removed]"
          },
          "metadata": {}
        }
      ],
      "source": [
        "# 예측값을 0과 1 이진값으로 나오게 변환\n",
        "prediction = (prediction > 0.5).astype(int)\n",
        "\n",
        "plt.imshow(X_test[sample_index])\n",
        "plt.title(f\"Actual gender: {y_test[sample_index]}, Predicted gender: {prediction[0, 0]}\")\n",
        "plt.show()"
      ]
    },
    {
      "cell_type": "code",
      "execution_count": 57,
      "id": "9856bbd6",
      "metadata": {
        "id": "9856bbd6"
      },
      "outputs": [],
      "source": [
        "# 모델을 저장할 경로 및 파일명 정의\n",
        "model_save_path = '/content/drive/MyDrive/model_sex_prediction.h5'\n",
        "\n",
        "# 모델 저장\n",
        "model_sex.save(model_save_path)\n",
        "\n"
      ]
    }
  ],
  "metadata": {
    "kernelspec": {
      "display_name": "Python 3 (ipykernel)",
      "language": "python",
      "name": "python3"
    },
    "language_info": {
      "codemirror_mode": {
        "name": "ipython",
        "version": 3
      },
      "file_extension": ".py",
      "mimetype": "text/x-python",
      "name": "python",
      "nbconvert_exporter": "python",
      "pygments_lexer": "ipython3",
      "version": "3.10.9"
    },
    "colab": {
      "provenance": [],
      "collapsed_sections": [
        "44YrhjG_08hc",
        "R9EKno1P1Gwq",
        "k7SNuLtW1Kzz",
        "ZXpxdT7k0qnb"
      ]
    }
  },
  "nbformat": 4,
  "nbformat_minor": 5
}